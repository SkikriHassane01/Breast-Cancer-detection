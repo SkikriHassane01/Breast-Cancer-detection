{
 "cells": [
  {
   "cell_type": "markdown",
   "id": "c42168ce",
   "metadata": {
    "_cell_guid": "b1076dfc-b9ad-4769-8c92-a6c4dae69d19",
    "_uuid": "8f2839f25d086af736a60e9eeb907d3b93b6e0e5",
    "id": "tvzJpXlPT-y-",
    "papermill": {
     "duration": 0.017316,
     "end_time": "2024-07-16T18:09:53.621586",
     "exception": false,
     "start_time": "2024-07-16T18:09:53.604270",
     "status": "completed"
    },
    "tags": []
   },
   "source": [
    "\n",
    "<div style =\"font-family:Trebuchet MS; background-color : #f8f0fa; border-left: 5px solid #1b4332; padding: 12px; border-radius: 50px 50px;\">\n",
    "    <h2 style=\"color: #1b4332; font-size: 48px; text-align: center;\"><b> Breast detection\n",
    " </b></h2>\n",
    "    <hr style=\"border-top: 2px solid #264653;\">\n",
    "    <h3 style=\"font-size: 14px; color: #264653; text-align: left; \"><strong> I hope this is very helpful. let's started .😊🌟</strong></h3>\n",
    "    <h2></h2>\n",
    "</div>"
   ]
  },
  {
   "cell_type": "markdown",
   "id": "1f281548",
   "metadata": {
    "id": "wrJLy3pmT-zA",
    "papermill": {
     "duration": 0.015919,
     "end_time": "2024-07-16T18:09:53.653498",
     "exception": false,
     "start_time": "2024-07-16T18:09:53.637579",
     "status": "completed"
    },
    "tags": []
   },
   "source": [
    "<h1 style=\"background-color: #12f7ff;\n",
    "           font-family: 'Trebuchet MS', sans-serif;\n",
    "           color: #000;\n",
    "           font-size: 150%;\n",
    "           text-align: center;\n",
    "           border-radius: 50px 50px;\n",
    "           padding: 20px 20px ;\n",
    "           margin: 30px 30px;\n",
    "           box-shadow: 0 0 10px rgba(18,247,255,0.6),\n",
    "    0 0 20px rgba(18,247,255,0.6),\n",
    "    0 0 30px rgba(18,247,255,0.6),\n",
    "    0 0 40px rgba(18,247,255,0.6);\">\n",
    "    🔻🌟 Outline🌟🔻\n",
    "</h1>"
   ]
  },
  {
   "cell_type": "markdown",
   "id": "62d4defa",
   "metadata": {
    "id": "DxW0Bo6KT-zA",
    "papermill": {
     "duration": 0.015532,
     "end_time": "2024-07-16T18:09:53.686196",
     "exception": false,
     "start_time": "2024-07-16T18:09:53.670664",
     "status": "completed"
    },
    "tags": []
   },
   "source": [
    "<div style=\"background-color: #fcf8e8; /* Notepad yellow */\n",
    "           font-family: 'Times New Roman', serif; /* Classic font for note-taking */\n",
    "           color: #000;\n",
    "           font-size: 16px; /* Standard text size */\n",
    "           line-height: 1.5; /* Spacing between lines of text */\n",
    "           text-align: left;\n",
    "           border-radius: 5px;\n",
    "           padding: 20px;\n",
    "           margin: 20px;\n",
    "           width: 90%;\n",
    "           box-shadow: 5px 5px 15px rgba(0, 0, 0, 0.2); /* Realistic shadow */\n",
    "           background-image: linear-gradient(rgba(0, 0, 0, 0.1) 1px, transparent 1px),\n",
    "                             linear-gradient(to right, rgba(0, 0, 0, 0.1) 1px, transparent 1px);\n",
    "           background-size: 100% 30px, 30px 100%; /* Size of the lines */\n",
    "           border: 1px solid #ddd; /* Border for paper edge */\n",
    "           \">\n",
    "    <ul>\n",
    "        <li>Overview about the project 📋</li>\n",
    "        <li>Import libraries 📂</li>\n",
    "        <li>Data cleaning 🧹</li>\n",
    "        <li>Exploratory Data Analysis (EDA)</li>\n",
    "        <li>Data Preprocessing for Modeling</li>\n",
    "        <li>Modeling 🧠</li>\n",
    "        <li>Save the model 🎯</li>\n",
    "    </ul>\n",
    "</div>\n",
    "\n"
   ]
  },
  {
   "cell_type": "markdown",
   "id": "b8b2cc92",
   "metadata": {
    "id": "_Jz7stMCT-zA",
    "papermill": {
     "duration": 0.015828,
     "end_time": "2024-07-16T18:09:53.717856",
     "exception": false,
     "start_time": "2024-07-16T18:09:53.702028",
     "status": "completed"
    },
    "tags": []
   },
   "source": [
    "<h1 style=\"background-color: #12f7ff;\n",
    "           font-family: 'Trebuchet MS', sans-serif;\n",
    "           color: #000;\n",
    "           font-size: 150%;\n",
    "           text-align: center;\n",
    "           border-radius: 50px 50px;\n",
    "           padding: 20px 20px ;\n",
    "           margin: 30px 30px;\n",
    "           box-shadow: 0 0 10px rgba(18,247,255,0.6),\n",
    "    0 0 20px rgba(18,247,255,0.6),\n",
    "    0 0 30px rgba(18,247,255,0.6),\n",
    "    0 0 40px rgba(18,247,255,0.6);\">\n",
    "    🔻🌟 Overview about the project 🌟🔻</h1>"
   ]
  },
  {
   "cell_type": "markdown",
   "id": "832b128c",
   "metadata": {
    "id": "HP1sAOXlT-zB",
    "papermill": {
     "duration": 0.016414,
     "end_time": "2024-07-16T18:09:53.751026",
     "exception": false,
     "start_time": "2024-07-16T18:09:53.734612",
     "status": "completed"
    },
    "tags": []
   },
   "source": [
    "<img style=\"width: 60%; height: auto; padding: 20px  auto; margin: 20px auto; display: block ; display: block; border-radius: 50px 50px;\" src=\"https://th.bing.com/th/id/OIP.tPO2P4_oRhAV3_PYrDw0bQHaE8?rs=1&pid=ImgDetMain\">\n",
    "\n"
   ]
  },
  {
   "cell_type": "markdown",
   "id": "b7f5906e",
   "metadata": {
    "id": "szHNlqKyT-zB",
    "papermill": {
     "duration": 0.015726,
     "end_time": "2024-07-16T18:09:53.783028",
     "exception": false,
     "start_time": "2024-07-16T18:09:53.767302",
     "status": "completed"
    },
    "tags": []
   },
   "source": [
    "<div style=\"background-color: #fcf8e8; /* Notepad yellow */\n",
    "           font-family: 'Times New Roman', serif; /* Classic font for note-taking */\n",
    "           color: #000;\n",
    "           font-size: 16px; /* Standard text size */\n",
    "           line-height: 1.5; /* Spacing between lines of text */\n",
    "           text-align: left;\n",
    "           border-radius: 5px;\n",
    "           padding: 20px;\n",
    "           margin: 20px;\n",
    "           width: 90%;\n",
    "           box-shadow: 5px 5px 15px rgba(0, 0, 0, 0.2); /* Realistic shadow */\n",
    "           background-image: linear-gradient(rgba(0, 0, 0, 0.1) 1px, transparent 1px),\n",
    "                             linear-gradient(to right, rgba(0, 0, 0, 0.1) 1px, transparent 1px);\n",
    "           background-size: 100% 30px, 30px 100%; /* Size of the lines */\n",
    "           border: 1px solid #ddd; /* Border for paper edge */\n",
    "           \">\n",
    "    <hr>\n",
    "    <p>Breast cancer is the most common cancer amongst women in the world. It accounts for 25% of all cancer cases, and affected over 2.1 Million people in 2015 alone. It starts when cells in the breast begin to grow out of control. These cells usually form tumors that can be seen via X-ray or felt as lumps in the breast area.\n",
    "\n",
    "The key challenges against it’s detection is how to classify tumors into malignant (cancerous) or benign(non cancerous).\n",
    "    </p>\n",
    "    <h3> Our dataset contain:</h3>\n",
    "</div>\n"
   ]
  },
  {
   "cell_type": "markdown",
   "id": "72f2a1f7",
   "metadata": {
    "id": "4sRB2EFUT-zB",
    "papermill": {
     "duration": 0.016657,
     "end_time": "2024-07-16T18:09:53.816165",
     "exception": false,
     "start_time": "2024-07-16T18:09:53.799508",
     "status": "completed"
    },
    "tags": []
   },
   "source": [
    "<table>\n",
    "  <tr>\n",
    "    <th>Column Name</th>\n",
    "    <th>Data Type</th>\n",
    "    <th>Description</th>\n",
    "  </tr>\n",
    "  <tr>\n",
    "    <td>id</td>\n",
    "    <td>Integer</td>\n",
    "    <td>Unique identifier for each patient</td>\n",
    "  </tr>\n",
    "  <tr>\n",
    "    <td>diagnosis</td>\n",
    "    <td>String</td>\n",
    "    <td>Diagnosis of breast tissues (M = malignant, B = benign)</td>\n",
    "  </tr>\n",
    "  <tr>\n",
    "    <td>radius_mean</td>\n",
    "    <td>Float</td>\n",
    "    <td>Mean of distances from center to points on the perimeter</td>\n",
    "  </tr>\n",
    "  <tr>\n",
    "    <td>texture_mean</td>\n",
    "    <td>Float</td>\n",
    "    <td>Standard deviation of gray-scale values</td>\n",
    "  </tr>\n",
    "  <tr>\n",
    "    <td>perimeter_mean</td>\n",
    "    <td>Float</td>\n",
    "    <td>Mean size of the core tumor perimeter</td>\n",
    "  </tr>\n",
    "  <tr>\n",
    "    <td>area_mean</td>\n",
    "    <td>Float</td>\n",
    "    <td>Mean area of the tumor</td>\n",
    "  </tr>\n",
    "  <tr>\n",
    "    <td>smoothness_mean</td>\n",
    "    <td>Float</td>\n",
    "    <td>Mean of local variation in radius lengths</td>\n",
    "  </tr>\n",
    "  <tr>\n",
    "    <td>compactness_mean</td>\n",
    "    <td>Float</td>\n",
    "    <td>Mean of perimeter^2 / area - 1.0</td>\n",
    "  </tr>\n",
    "  <tr>\n",
    "    <td>concavity_mean</td>\n",
    "    <td>Float</td>\n",
    "    <td>Mean of severity of concave portions of the contour</td>\n",
    "  </tr>\n",
    "  <tr>\n",
    "    <td>concave points_mean</td>\n",
    "    <td>Float</td>\n",
    "    <td>Mean of number of concave portions of the contour</td>\n",
    "  </tr>\n",
    "  <tr>\n",
    "    <td>symmetry_mean</td>\n",
    "    <td>Float</td>\n",
    "    <td>Mean symmetry of the tumor</td>\n",
    "  </tr>\n",
    "  <tr>\n",
    "    <td>fractal_dimension_mean</td>\n",
    "    <td>Float</td>\n",
    "    <td>Mean for \"coastline approximation\" - 1</td>\n",
    "  </tr>\n",
    "  <tr>\n",
    "    <td>radius_se</td>\n",
    "    <td>Float</td>\n",
    "    <td>Standard error for the mean of distances from center to points on the perimeter</td>\n",
    "  </tr>\n",
    "  <tr>\n",
    "    <td>texture_se</td>\n",
    "    <td>Float</td>\n",
    "    <td>Standard error for the standard deviation of gray-scale values</td>\n",
    "  </tr>\n",
    "  <tr>\n",
    "    <td>perimeter_se</td>\n",
    "    <td>Float</td>\n",
    "    <td>Standard error for the mean size of the core tumor perimeter</td>\n",
    "  </tr>\n",
    "  <tr>\n",
    "    <td>area_se</td>\n",
    "    <td>Float</td>\n",
    "    <td>Standard error for the mean area of the tumor</td>\n",
    "  </tr>\n",
    "  <tr>\n",
    "    <td>smoothness_se</td>\n",
    "    <td>Float</td>\n",
    "    <td>Standard error for the mean of local variation in radius lengths</td>\n",
    "  </tr>\n",
    "  <tr>\n",
    "    <td>compactness_se</td>\n",
    "    <td>Float</td>\n",
    "    <td>Standard error for the mean of perimeter^2 / area - 1.0</td>\n",
    "  </tr>\n",
    "  <tr>\n",
    "    <td>concavity_se</td>\n",
    "    <td>Float</td>\n",
    "    <td>Standard error for the mean of severity of concave portions of the contour</td>\n",
    "  </tr>\n",
    "  <tr>\n",
    "    <td>concave points_se</td>\n",
    "    <td>Float</td>\n",
    "    <td>Standard error for the mean of number of concave portions of the contour</td>\n",
    "  </tr>\n",
    "  <tr>\n",
    "    <td>symmetry_se</td>\n",
    "    <td>Float</td>\n",
    "    <td>Standard error for the mean symmetry of the tumor</td>\n",
    "  </tr>\n",
    "  <tr>\n",
    "    <td>fractal_dimension_se</td>\n",
    "    <td>Float</td>\n",
    "    <td>Standard error for the mean \"coastline approximation\" - 1</td>\n",
    "  </tr>\n",
    "  <tr>\n",
    "    <td>radius_worst</td>\n",
    "    <td>Float</td>\n",
    "    <td>Worst or largest mean value for radius</td>\n",
    "  </tr>\n",
    "  <tr>\n",
    "    <td>texture_worst</td>\n",
    "    <td>Float</td>\n",
    "    <td>Worst or largest mean value for texture</td>\n",
    "  </tr>\n",
    "  <tr>\n",
    "    <td>perimeter_worst</td>\n",
    "    <td>Float</td>\n",
    "    <td>Worst or largest mean value for perimeter</td>\n",
    "  </tr>\n",
    "  <tr>\n",
    "    <td>area_worst</td>\n",
    "    <td>Float</td>\n",
    "    <td>Worst or largest mean value for area</td>\n",
    "  </tr>\n",
    "  <tr>\n",
    "    <td>smoothness_worst</td>\n",
    "    <td>Float</td>\n",
    "    <td>Worst or largest mean value for smoothness</td>\n",
    "  </tr>\n",
    "  <tr>\n",
    "    <td>compactness_worst</td>\n",
    "    <td>Float</td>\n",
    "    <td>Worst or largest mean value for compactness</td>\n",
    "  </tr>\n",
    "  <tr>\n",
    "    <td>concavity_worst</td>\n",
    "    <td>Float</td>\n",
    "    <td>Worst or largest mean value for concavity</td>\n",
    "  </tr>\n",
    "  <tr>\n",
    "    <td>concave points_worst</td>\n",
    "    <td>Float</td>\n",
    "    <td>Worst or largest mean value for number of concave points</td>\n",
    "  </tr>\n",
    "  <tr>\n",
    "    <td>symmetry_worst</td>\n",
    "    <td>Float</td>\n",
    "    <td>Worst or largest mean value for symmetry</td>\n",
    "  </tr>\n",
    "  <tr>\n",
    "    <td>fractal_dimension_worst</td>\n",
    "    <td>Float</td>\n",
    "    <td>Worst or largest mean value for \"coastline approximation\"</td>\n",
    "  </tr>\n",
    "</table>"
   ]
  },
  {
   "cell_type": "markdown",
   "id": "b3b01abf",
   "metadata": {
    "id": "oYFQ68VVT-zC",
    "papermill": {
     "duration": 0.016639,
     "end_time": "2024-07-16T18:09:53.849050",
     "exception": false,
     "start_time": "2024-07-16T18:09:53.832411",
     "status": "completed"
    },
    "tags": []
   },
   "source": [
    "<h1 style=\"background-color: #12f7ff;\n",
    "           font-family: 'Trebuchet MS', sans-serif;\n",
    "           color: #000;\n",
    "           font-size: 150%;\n",
    "           text-align: center;\n",
    "           border-radius: 50px 50px;\n",
    "           padding: 20px 20px ;\n",
    "           margin: 30px 30px;\n",
    "           box-shadow: 0 0 10px rgba(18,247,255,0.6),\n",
    "    0 0 20px rgba(18,247,255,0.6),\n",
    "    0 0 30px rgba(18,247,255,0.6),\n",
    "    0 0 40px rgba(18,247,255,0.6);\">\n",
    "    🔻🌟 Import libraries 🌟🔻</h1>"
   ]
  },
  {
   "cell_type": "code",
   "execution_count": 1,
   "id": "c3ad6865",
   "metadata": {
    "execution": {
     "iopub.execute_input": "2024-07-16T18:09:53.885009Z",
     "iopub.status.busy": "2024-07-16T18:09:53.884542Z",
     "iopub.status.idle": "2024-07-16T18:09:57.488676Z",
     "shell.execute_reply": "2024-07-16T18:09:57.487267Z"
    },
    "id": "jXBVvvEMT-zD",
    "papermill": {
     "duration": 3.625107,
     "end_time": "2024-07-16T18:09:57.491616",
     "exception": false,
     "start_time": "2024-07-16T18:09:53.866509",
     "status": "completed"
    },
    "tags": []
   },
   "outputs": [],
   "source": [
    "import numpy as np # Linear Algebra\n",
    "\n",
    "import pandas as pd # Handling Data\n",
    "\n",
    "import matplotlib.pyplot as plt # Visualization\n",
    "import seaborn as sns # Visualization\n",
    "\n",
    "\n",
    "# Feature Scaling\n",
    "from sklearn.preprocessing import RobustScaler\n",
    "from sklearn.preprocessing import StandardScaler\n",
    "\n",
    "\n",
    "# train test split\n",
    "from sklearn.model_selection import train_test_split\n",
    "\n",
    "# Feature selection\n",
    "from sklearn.ensemble import ExtraTreesClassifier\n",
    "\n",
    "#␣Performance Measures\n",
    "from sklearn.metrics import classification_report, confusion_matrix\n",
    "\n",
    "# for modeling\n",
    "from sklearn.linear_model import LogisticRegression\n",
    "from sklearn.tree import DecisionTreeClassifier\n",
    "from sklearn.ensemble import RandomForestClassifier, GradientBoostingClassifier, AdaBoostClassifier\n",
    "from sklearn.svm import SVC\n",
    "from sklearn.neighbors import KNeighborsClassifier\n",
    "\n",
    "# to get the accuracy\n",
    "from sklearn.metrics import accuracy_score\n",
    "\n",
    "from sklearn.model_selection import cross_val_score\n",
    "\n",
    "import optuna\n",
    "\n",
    "import pickle\n",
    "\n",
    "import warnings\n",
    "warnings.filterwarnings('ignore')"
   ]
  },
  {
   "cell_type": "code",
   "execution_count": 2,
   "id": "9a3e4b47",
   "metadata": {
    "execution": {
     "iopub.execute_input": "2024-07-16T18:09:57.526651Z",
     "iopub.status.busy": "2024-07-16T18:09:57.525798Z",
     "iopub.status.idle": "2024-07-16T18:09:57.612076Z",
     "shell.execute_reply": "2024-07-16T18:09:57.610279Z"
    },
    "id": "0O24xdmXT-zD",
    "outputId": "978cc598-d297-4753-9fce-b9d0943c5c01",
    "papermill": {
     "duration": 0.107373,
     "end_time": "2024-07-16T18:09:57.615027",
     "exception": false,
     "start_time": "2024-07-16T18:09:57.507654",
     "status": "completed"
    },
    "tags": []
   },
   "outputs": [
    {
     "name": "stdout",
     "output_type": "stream",
     "text": [
      "the dataset contain 569 rows and 32 columns\n"
     ]
    },
    {
     "data": {
      "text/html": [
       "<div>\n",
       "<style scoped>\n",
       "    .dataframe tbody tr th:only-of-type {\n",
       "        vertical-align: middle;\n",
       "    }\n",
       "\n",
       "    .dataframe tbody tr th {\n",
       "        vertical-align: top;\n",
       "    }\n",
       "\n",
       "    .dataframe thead th {\n",
       "        text-align: right;\n",
       "    }\n",
       "</style>\n",
       "<table border=\"1\" class=\"dataframe\">\n",
       "  <thead>\n",
       "    <tr style=\"text-align: right;\">\n",
       "      <th></th>\n",
       "      <th>id</th>\n",
       "      <th>diagnosis</th>\n",
       "      <th>radius_mean</th>\n",
       "      <th>texture_mean</th>\n",
       "      <th>perimeter_mean</th>\n",
       "      <th>area_mean</th>\n",
       "      <th>smoothness_mean</th>\n",
       "      <th>compactness_mean</th>\n",
       "      <th>concavity_mean</th>\n",
       "      <th>concave points_mean</th>\n",
       "      <th>...</th>\n",
       "      <th>radius_worst</th>\n",
       "      <th>texture_worst</th>\n",
       "      <th>perimeter_worst</th>\n",
       "      <th>area_worst</th>\n",
       "      <th>smoothness_worst</th>\n",
       "      <th>compactness_worst</th>\n",
       "      <th>concavity_worst</th>\n",
       "      <th>concave points_worst</th>\n",
       "      <th>symmetry_worst</th>\n",
       "      <th>fractal_dimension_worst</th>\n",
       "    </tr>\n",
       "  </thead>\n",
       "  <tbody>\n",
       "    <tr>\n",
       "      <th>0</th>\n",
       "      <td>842302</td>\n",
       "      <td>M</td>\n",
       "      <td>17.99</td>\n",
       "      <td>10.38</td>\n",
       "      <td>122.8</td>\n",
       "      <td>1001.0</td>\n",
       "      <td>0.11840</td>\n",
       "      <td>0.27760</td>\n",
       "      <td>0.3001</td>\n",
       "      <td>0.14710</td>\n",
       "      <td>...</td>\n",
       "      <td>25.38</td>\n",
       "      <td>17.33</td>\n",
       "      <td>184.6</td>\n",
       "      <td>2019.0</td>\n",
       "      <td>0.1622</td>\n",
       "      <td>0.6656</td>\n",
       "      <td>0.7119</td>\n",
       "      <td>0.2654</td>\n",
       "      <td>0.4601</td>\n",
       "      <td>0.11890</td>\n",
       "    </tr>\n",
       "    <tr>\n",
       "      <th>1</th>\n",
       "      <td>842517</td>\n",
       "      <td>M</td>\n",
       "      <td>20.57</td>\n",
       "      <td>17.77</td>\n",
       "      <td>132.9</td>\n",
       "      <td>1326.0</td>\n",
       "      <td>0.08474</td>\n",
       "      <td>0.07864</td>\n",
       "      <td>0.0869</td>\n",
       "      <td>0.07017</td>\n",
       "      <td>...</td>\n",
       "      <td>24.99</td>\n",
       "      <td>23.41</td>\n",
       "      <td>158.8</td>\n",
       "      <td>1956.0</td>\n",
       "      <td>0.1238</td>\n",
       "      <td>0.1866</td>\n",
       "      <td>0.2416</td>\n",
       "      <td>0.1860</td>\n",
       "      <td>0.2750</td>\n",
       "      <td>0.08902</td>\n",
       "    </tr>\n",
       "    <tr>\n",
       "      <th>2</th>\n",
       "      <td>84300903</td>\n",
       "      <td>M</td>\n",
       "      <td>19.69</td>\n",
       "      <td>21.25</td>\n",
       "      <td>130.0</td>\n",
       "      <td>1203.0</td>\n",
       "      <td>0.10960</td>\n",
       "      <td>0.15990</td>\n",
       "      <td>0.1974</td>\n",
       "      <td>0.12790</td>\n",
       "      <td>...</td>\n",
       "      <td>23.57</td>\n",
       "      <td>25.53</td>\n",
       "      <td>152.5</td>\n",
       "      <td>1709.0</td>\n",
       "      <td>0.1444</td>\n",
       "      <td>0.4245</td>\n",
       "      <td>0.4504</td>\n",
       "      <td>0.2430</td>\n",
       "      <td>0.3613</td>\n",
       "      <td>0.08758</td>\n",
       "    </tr>\n",
       "  </tbody>\n",
       "</table>\n",
       "<p>3 rows × 32 columns</p>\n",
       "</div>"
      ],
      "text/plain": [
       "         id diagnosis  radius_mean  texture_mean  perimeter_mean  area_mean  \\\n",
       "0    842302         M        17.99         10.38           122.8     1001.0   \n",
       "1    842517         M        20.57         17.77           132.9     1326.0   \n",
       "2  84300903         M        19.69         21.25           130.0     1203.0   \n",
       "\n",
       "   smoothness_mean  compactness_mean  concavity_mean  concave points_mean  \\\n",
       "0          0.11840           0.27760          0.3001              0.14710   \n",
       "1          0.08474           0.07864          0.0869              0.07017   \n",
       "2          0.10960           0.15990          0.1974              0.12790   \n",
       "\n",
       "   ...  radius_worst  texture_worst  perimeter_worst  area_worst  \\\n",
       "0  ...         25.38          17.33            184.6      2019.0   \n",
       "1  ...         24.99          23.41            158.8      1956.0   \n",
       "2  ...         23.57          25.53            152.5      1709.0   \n",
       "\n",
       "   smoothness_worst  compactness_worst  concavity_worst  concave points_worst  \\\n",
       "0            0.1622             0.6656           0.7119                0.2654   \n",
       "1            0.1238             0.1866           0.2416                0.1860   \n",
       "2            0.1444             0.4245           0.4504                0.2430   \n",
       "\n",
       "   symmetry_worst  fractal_dimension_worst  \n",
       "0          0.4601                  0.11890  \n",
       "1          0.2750                  0.08902  \n",
       "2          0.3613                  0.08758  \n",
       "\n",
       "[3 rows x 32 columns]"
      ]
     },
     "execution_count": 2,
     "metadata": {},
     "output_type": "execute_result"
    }
   ],
   "source": [
    "path = \"..Data/breast-cancer.csv\"\n",
    "df = pd.read_csv(path)\n",
    "print(f\"the dataset contain\",df.shape[0],\"rows and\",df.shape[1],\"columns\")\n",
    "df.head(3)"
   ]
  },
  {
   "cell_type": "markdown",
   "id": "f2ed83fd",
   "metadata": {
    "id": "bYvJdXjwT-zE",
    "papermill": {
     "duration": 0.01732,
     "end_time": "2024-07-16T18:09:57.648835",
     "exception": false,
     "start_time": "2024-07-16T18:09:57.631515",
     "status": "completed"
    },
    "tags": []
   },
   "source": [
    "<h1 style=\"background-color: #12f7ff;\n",
    "           font-family: 'Trebuchet MS', sans-serif;\n",
    "           color: #000;\n",
    "           font-size: 150%;\n",
    "           text-align: center;\n",
    "           border-radius: 50px 50px;\n",
    "           padding: 20px 20px ;\n",
    "           margin: 30px 30px;\n",
    "           box-shadow: 0 0 10px rgba(18,247,255,0.6),\n",
    "    0 0 20px rgba(18,247,255,0.6),\n",
    "    0 0 30px rgba(18,247,255,0.6),\n",
    "    0 0 40px rgba(18,247,255,0.6);\">\n",
    "    🔻🌟 Data Cleaning 🌟🔻</h1>"
   ]
  },
  {
   "cell_type": "code",
   "execution_count": 3,
   "id": "277c963b",
   "metadata": {
    "execution": {
     "iopub.execute_input": "2024-07-16T18:09:57.683903Z",
     "iopub.status.busy": "2024-07-16T18:09:57.683438Z",
     "iopub.status.idle": "2024-07-16T18:09:57.706271Z",
     "shell.execute_reply": "2024-07-16T18:09:57.704837Z"
    },
    "id": "mhSob_nHT-zE",
    "outputId": "8fb44860-f2ee-49bc-cb4c-f4db3f9c2bd4",
    "papermill": {
     "duration": 0.043949,
     "end_time": "2024-07-16T18:09:57.709529",
     "exception": false,
     "start_time": "2024-07-16T18:09:57.665580",
     "status": "completed"
    },
    "tags": []
   },
   "outputs": [
    {
     "name": "stdout",
     "output_type": "stream",
     "text": [
      "there is 0 missing values\n",
      "there is 0 duplicated values\n"
     ]
    }
   ],
   "source": [
    "# checking the missing values\n",
    "mv = df.isna().sum().sum()\n",
    "print(f'there is',mv,'missing values')\n",
    "\n",
    "# checking the duplicated values\n",
    "dv = df.duplicated().sum()\n",
    "print(f'there is',dv,'duplicated values')"
   ]
  },
  {
   "cell_type": "code",
   "execution_count": 4,
   "id": "a956027a",
   "metadata": {
    "execution": {
     "iopub.execute_input": "2024-07-16T18:09:57.747969Z",
     "iopub.status.busy": "2024-07-16T18:09:57.747518Z",
     "iopub.status.idle": "2024-07-16T18:09:57.773868Z",
     "shell.execute_reply": "2024-07-16T18:09:57.772154Z"
    },
    "id": "g1Pj_uIgT-zF",
    "outputId": "67a3dcdd-841d-4536-db45-0bb0868606da",
    "papermill": {
     "duration": 0.049603,
     "end_time": "2024-07-16T18:09:57.776733",
     "exception": false,
     "start_time": "2024-07-16T18:09:57.727130",
     "status": "completed"
    },
    "tags": []
   },
   "outputs": [
    {
     "name": "stdout",
     "output_type": "stream",
     "text": [
      "<class 'pandas.core.frame.DataFrame'>\n",
      "RangeIndex: 569 entries, 0 to 568\n",
      "Data columns (total 32 columns):\n",
      " #   Column                   Non-Null Count  Dtype  \n",
      "---  ------                   --------------  -----  \n",
      " 0   id                       569 non-null    int64  \n",
      " 1   diagnosis                569 non-null    object \n",
      " 2   radius_mean              569 non-null    float64\n",
      " 3   texture_mean             569 non-null    float64\n",
      " 4   perimeter_mean           569 non-null    float64\n",
      " 5   area_mean                569 non-null    float64\n",
      " 6   smoothness_mean          569 non-null    float64\n",
      " 7   compactness_mean         569 non-null    float64\n",
      " 8   concavity_mean           569 non-null    float64\n",
      " 9   concave points_mean      569 non-null    float64\n",
      " 10  symmetry_mean            569 non-null    float64\n",
      " 11  fractal_dimension_mean   569 non-null    float64\n",
      " 12  radius_se                569 non-null    float64\n",
      " 13  texture_se               569 non-null    float64\n",
      " 14  perimeter_se             569 non-null    float64\n",
      " 15  area_se                  569 non-null    float64\n",
      " 16  smoothness_se            569 non-null    float64\n",
      " 17  compactness_se           569 non-null    float64\n",
      " 18  concavity_se             569 non-null    float64\n",
      " 19  concave points_se        569 non-null    float64\n",
      " 20  symmetry_se              569 non-null    float64\n",
      " 21  fractal_dimension_se     569 non-null    float64\n",
      " 22  radius_worst             569 non-null    float64\n",
      " 23  texture_worst            569 non-null    float64\n",
      " 24  perimeter_worst          569 non-null    float64\n",
      " 25  area_worst               569 non-null    float64\n",
      " 26  smoothness_worst         569 non-null    float64\n",
      " 27  compactness_worst        569 non-null    float64\n",
      " 28  concavity_worst          569 non-null    float64\n",
      " 29  concave points_worst     569 non-null    float64\n",
      " 30  symmetry_worst           569 non-null    float64\n",
      " 31  fractal_dimension_worst  569 non-null    float64\n",
      "dtypes: float64(30), int64(1), object(1)\n",
      "memory usage: 142.4+ KB\n"
     ]
    },
    {
     "data": {
      "text/plain": [
       "None"
      ]
     },
     "metadata": {},
     "output_type": "display_data"
    }
   ],
   "source": [
    "display(df.info())"
   ]
  },
  {
   "cell_type": "code",
   "execution_count": 5,
   "id": "dc97e86e",
   "metadata": {
    "execution": {
     "iopub.execute_input": "2024-07-16T18:09:57.814141Z",
     "iopub.status.busy": "2024-07-16T18:09:57.812855Z",
     "iopub.status.idle": "2024-07-16T18:09:57.820266Z",
     "shell.execute_reply": "2024-07-16T18:09:57.819033Z"
    },
    "id": "TqBy_BG_T-zF",
    "papermill": {
     "duration": 0.029129,
     "end_time": "2024-07-16T18:09:57.823173",
     "exception": false,
     "start_time": "2024-07-16T18:09:57.794044",
     "status": "completed"
    },
    "tags": []
   },
   "outputs": [],
   "source": [
    "# Remove the id column since it has no impact on our model\n",
    "\n",
    "df = df.drop(columns=['id'],axis=1)"
   ]
  },
  {
   "cell_type": "code",
   "execution_count": 6,
   "id": "3b757c08",
   "metadata": {
    "execution": {
     "iopub.execute_input": "2024-07-16T18:09:57.860232Z",
     "iopub.status.busy": "2024-07-16T18:09:57.859829Z",
     "iopub.status.idle": "2024-07-16T18:09:57.867688Z",
     "shell.execute_reply": "2024-07-16T18:09:57.866348Z"
    },
    "id": "SvQnT3lWT-zF",
    "papermill": {
     "duration": 0.03027,
     "end_time": "2024-07-16T18:09:57.870530",
     "exception": false,
     "start_time": "2024-07-16T18:09:57.840260",
     "status": "completed"
    },
    "tags": []
   },
   "outputs": [],
   "source": [
    "# in the target column we will replace M with 1 and B  with 0\n",
    "\n",
    "df['diagnosis'] = df['diagnosis'].replace({'M':1,'B':0})"
   ]
  },
  {
   "cell_type": "code",
   "execution_count": 7,
   "id": "32d4c92c",
   "metadata": {
    "execution": {
     "iopub.execute_input": "2024-07-16T18:09:57.905962Z",
     "iopub.status.busy": "2024-07-16T18:09:57.905535Z",
     "iopub.status.idle": "2024-07-16T18:09:57.933676Z",
     "shell.execute_reply": "2024-07-16T18:09:57.932427Z"
    },
    "id": "sbHZgttTT-zF",
    "outputId": "a9f26802-5b1d-4161-a60d-ccd6d0460216",
    "papermill": {
     "duration": 0.048833,
     "end_time": "2024-07-16T18:09:57.936196",
     "exception": false,
     "start_time": "2024-07-16T18:09:57.887363",
     "status": "completed"
    },
    "tags": []
   },
   "outputs": [
    {
     "data": {
      "text/html": [
       "<div>\n",
       "<style scoped>\n",
       "    .dataframe tbody tr th:only-of-type {\n",
       "        vertical-align: middle;\n",
       "    }\n",
       "\n",
       "    .dataframe tbody tr th {\n",
       "        vertical-align: top;\n",
       "    }\n",
       "\n",
       "    .dataframe thead th {\n",
       "        text-align: right;\n",
       "    }\n",
       "</style>\n",
       "<table border=\"1\" class=\"dataframe\">\n",
       "  <thead>\n",
       "    <tr style=\"text-align: right;\">\n",
       "      <th></th>\n",
       "      <th>diagnosis</th>\n",
       "      <th>radius_mean</th>\n",
       "      <th>texture_mean</th>\n",
       "      <th>perimeter_mean</th>\n",
       "      <th>area_mean</th>\n",
       "      <th>smoothness_mean</th>\n",
       "      <th>compactness_mean</th>\n",
       "      <th>concavity_mean</th>\n",
       "      <th>concave points_mean</th>\n",
       "      <th>symmetry_mean</th>\n",
       "      <th>...</th>\n",
       "      <th>radius_worst</th>\n",
       "      <th>texture_worst</th>\n",
       "      <th>perimeter_worst</th>\n",
       "      <th>area_worst</th>\n",
       "      <th>smoothness_worst</th>\n",
       "      <th>compactness_worst</th>\n",
       "      <th>concavity_worst</th>\n",
       "      <th>concave points_worst</th>\n",
       "      <th>symmetry_worst</th>\n",
       "      <th>fractal_dimension_worst</th>\n",
       "    </tr>\n",
       "  </thead>\n",
       "  <tbody>\n",
       "    <tr>\n",
       "      <th>0</th>\n",
       "      <td>1</td>\n",
       "      <td>17.99</td>\n",
       "      <td>10.38</td>\n",
       "      <td>122.8</td>\n",
       "      <td>1001.0</td>\n",
       "      <td>0.11840</td>\n",
       "      <td>0.27760</td>\n",
       "      <td>0.3001</td>\n",
       "      <td>0.14710</td>\n",
       "      <td>0.2419</td>\n",
       "      <td>...</td>\n",
       "      <td>25.38</td>\n",
       "      <td>17.33</td>\n",
       "      <td>184.6</td>\n",
       "      <td>2019.0</td>\n",
       "      <td>0.1622</td>\n",
       "      <td>0.6656</td>\n",
       "      <td>0.7119</td>\n",
       "      <td>0.2654</td>\n",
       "      <td>0.4601</td>\n",
       "      <td>0.11890</td>\n",
       "    </tr>\n",
       "    <tr>\n",
       "      <th>1</th>\n",
       "      <td>1</td>\n",
       "      <td>20.57</td>\n",
       "      <td>17.77</td>\n",
       "      <td>132.9</td>\n",
       "      <td>1326.0</td>\n",
       "      <td>0.08474</td>\n",
       "      <td>0.07864</td>\n",
       "      <td>0.0869</td>\n",
       "      <td>0.07017</td>\n",
       "      <td>0.1812</td>\n",
       "      <td>...</td>\n",
       "      <td>24.99</td>\n",
       "      <td>23.41</td>\n",
       "      <td>158.8</td>\n",
       "      <td>1956.0</td>\n",
       "      <td>0.1238</td>\n",
       "      <td>0.1866</td>\n",
       "      <td>0.2416</td>\n",
       "      <td>0.1860</td>\n",
       "      <td>0.2750</td>\n",
       "      <td>0.08902</td>\n",
       "    </tr>\n",
       "  </tbody>\n",
       "</table>\n",
       "<p>2 rows × 31 columns</p>\n",
       "</div>"
      ],
      "text/plain": [
       "   diagnosis  radius_mean  texture_mean  perimeter_mean  area_mean  \\\n",
       "0          1        17.99         10.38           122.8     1001.0   \n",
       "1          1        20.57         17.77           132.9     1326.0   \n",
       "\n",
       "   smoothness_mean  compactness_mean  concavity_mean  concave points_mean  \\\n",
       "0          0.11840           0.27760          0.3001              0.14710   \n",
       "1          0.08474           0.07864          0.0869              0.07017   \n",
       "\n",
       "   symmetry_mean  ...  radius_worst  texture_worst  perimeter_worst  \\\n",
       "0         0.2419  ...         25.38          17.33            184.6   \n",
       "1         0.1812  ...         24.99          23.41            158.8   \n",
       "\n",
       "   area_worst  smoothness_worst  compactness_worst  concavity_worst  \\\n",
       "0      2019.0            0.1622             0.6656           0.7119   \n",
       "1      1956.0            0.1238             0.1866           0.2416   \n",
       "\n",
       "   concave points_worst  symmetry_worst  fractal_dimension_worst  \n",
       "0                0.2654          0.4601                  0.11890  \n",
       "1                0.1860          0.2750                  0.08902  \n",
       "\n",
       "[2 rows x 31 columns]"
      ]
     },
     "execution_count": 7,
     "metadata": {},
     "output_type": "execute_result"
    }
   ],
   "source": [
    "df.head(2)"
   ]
  },
  {
   "cell_type": "markdown",
   "id": "2f716b64",
   "metadata": {
    "id": "MoWu72CCT-zG",
    "papermill": {
     "duration": 0.017843,
     "end_time": "2024-07-16T18:09:57.971125",
     "exception": false,
     "start_time": "2024-07-16T18:09:57.953282",
     "status": "completed"
    },
    "tags": []
   },
   "source": [
    "<h1 style=\"background-color: #12f7ff;\n",
    "           font-family: 'Trebuchet MS', sans-serif;\n",
    "           color: #000;\n",
    "           font-size: 150%;\n",
    "           text-align: center;\n",
    "           border-radius: 50px 50px;\n",
    "           padding: 20px 20px ;\n",
    "           margin: 30px 30px;\n",
    "           box-shadow: 0 0 10px rgba(18,247,255,0.6),\n",
    "    0 0 20px rgba(18,247,255,0.6),\n",
    "    0 0 30px rgba(18,247,255,0.6),\n",
    "    0 0 40px rgba(18,247,255,0.6);\">\n",
    "    🔻🌟 Exploratory Data Analysis (EDA) 🌟🔻</h1>\n"
   ]
  },
  {
   "cell_type": "code",
   "execution_count": 8,
   "id": "e4b1f6f4",
   "metadata": {
    "execution": {
     "iopub.execute_input": "2024-07-16T18:09:58.007742Z",
     "iopub.status.busy": "2024-07-16T18:09:58.007239Z",
     "iopub.status.idle": "2024-07-16T18:09:58.101522Z",
     "shell.execute_reply": "2024-07-16T18:09:58.100221Z"
    },
    "id": "0OJfHLnfT-zG",
    "outputId": "2770dc0a-9415-4575-afd8-9533c287ba1e",
    "papermill": {
     "duration": 0.115249,
     "end_time": "2024-07-16T18:09:58.104054",
     "exception": false,
     "start_time": "2024-07-16T18:09:57.988805",
     "status": "completed"
    },
    "tags": []
   },
   "outputs": [
    {
     "data": {
      "text/html": [
       "<div>\n",
       "<style scoped>\n",
       "    .dataframe tbody tr th:only-of-type {\n",
       "        vertical-align: middle;\n",
       "    }\n",
       "\n",
       "    .dataframe tbody tr th {\n",
       "        vertical-align: top;\n",
       "    }\n",
       "\n",
       "    .dataframe thead th {\n",
       "        text-align: right;\n",
       "    }\n",
       "</style>\n",
       "<table border=\"1\" class=\"dataframe\">\n",
       "  <thead>\n",
       "    <tr style=\"text-align: right;\">\n",
       "      <th></th>\n",
       "      <th>diagnosis</th>\n",
       "      <th>radius_mean</th>\n",
       "      <th>texture_mean</th>\n",
       "      <th>perimeter_mean</th>\n",
       "      <th>area_mean</th>\n",
       "      <th>smoothness_mean</th>\n",
       "      <th>compactness_mean</th>\n",
       "      <th>concavity_mean</th>\n",
       "      <th>concave points_mean</th>\n",
       "      <th>symmetry_mean</th>\n",
       "      <th>...</th>\n",
       "      <th>radius_worst</th>\n",
       "      <th>texture_worst</th>\n",
       "      <th>perimeter_worst</th>\n",
       "      <th>area_worst</th>\n",
       "      <th>smoothness_worst</th>\n",
       "      <th>compactness_worst</th>\n",
       "      <th>concavity_worst</th>\n",
       "      <th>concave points_worst</th>\n",
       "      <th>symmetry_worst</th>\n",
       "      <th>fractal_dimension_worst</th>\n",
       "    </tr>\n",
       "  </thead>\n",
       "  <tbody>\n",
       "    <tr>\n",
       "      <th>count</th>\n",
       "      <td>569.000000</td>\n",
       "      <td>569.000000</td>\n",
       "      <td>569.000000</td>\n",
       "      <td>569.000000</td>\n",
       "      <td>569.000000</td>\n",
       "      <td>569.000000</td>\n",
       "      <td>569.000000</td>\n",
       "      <td>569.000000</td>\n",
       "      <td>569.000000</td>\n",
       "      <td>569.000000</td>\n",
       "      <td>...</td>\n",
       "      <td>569.000000</td>\n",
       "      <td>569.000000</td>\n",
       "      <td>569.000000</td>\n",
       "      <td>569.000000</td>\n",
       "      <td>569.000000</td>\n",
       "      <td>569.000000</td>\n",
       "      <td>569.000000</td>\n",
       "      <td>569.000000</td>\n",
       "      <td>569.000000</td>\n",
       "      <td>569.000000</td>\n",
       "    </tr>\n",
       "    <tr>\n",
       "      <th>mean</th>\n",
       "      <td>0.372583</td>\n",
       "      <td>14.127292</td>\n",
       "      <td>19.289649</td>\n",
       "      <td>91.969033</td>\n",
       "      <td>654.889104</td>\n",
       "      <td>0.096360</td>\n",
       "      <td>0.104341</td>\n",
       "      <td>0.088799</td>\n",
       "      <td>0.048919</td>\n",
       "      <td>0.181162</td>\n",
       "      <td>...</td>\n",
       "      <td>16.269190</td>\n",
       "      <td>25.677223</td>\n",
       "      <td>107.261213</td>\n",
       "      <td>880.583128</td>\n",
       "      <td>0.132369</td>\n",
       "      <td>0.254265</td>\n",
       "      <td>0.272188</td>\n",
       "      <td>0.114606</td>\n",
       "      <td>0.290076</td>\n",
       "      <td>0.083946</td>\n",
       "    </tr>\n",
       "    <tr>\n",
       "      <th>std</th>\n",
       "      <td>0.483918</td>\n",
       "      <td>3.524049</td>\n",
       "      <td>4.301036</td>\n",
       "      <td>24.298981</td>\n",
       "      <td>351.914129</td>\n",
       "      <td>0.014064</td>\n",
       "      <td>0.052813</td>\n",
       "      <td>0.079720</td>\n",
       "      <td>0.038803</td>\n",
       "      <td>0.027414</td>\n",
       "      <td>...</td>\n",
       "      <td>4.833242</td>\n",
       "      <td>6.146258</td>\n",
       "      <td>33.602542</td>\n",
       "      <td>569.356993</td>\n",
       "      <td>0.022832</td>\n",
       "      <td>0.157336</td>\n",
       "      <td>0.208624</td>\n",
       "      <td>0.065732</td>\n",
       "      <td>0.061867</td>\n",
       "      <td>0.018061</td>\n",
       "    </tr>\n",
       "    <tr>\n",
       "      <th>min</th>\n",
       "      <td>0.000000</td>\n",
       "      <td>6.981000</td>\n",
       "      <td>9.710000</td>\n",
       "      <td>43.790000</td>\n",
       "      <td>143.500000</td>\n",
       "      <td>0.052630</td>\n",
       "      <td>0.019380</td>\n",
       "      <td>0.000000</td>\n",
       "      <td>0.000000</td>\n",
       "      <td>0.106000</td>\n",
       "      <td>...</td>\n",
       "      <td>7.930000</td>\n",
       "      <td>12.020000</td>\n",
       "      <td>50.410000</td>\n",
       "      <td>185.200000</td>\n",
       "      <td>0.071170</td>\n",
       "      <td>0.027290</td>\n",
       "      <td>0.000000</td>\n",
       "      <td>0.000000</td>\n",
       "      <td>0.156500</td>\n",
       "      <td>0.055040</td>\n",
       "    </tr>\n",
       "    <tr>\n",
       "      <th>25%</th>\n",
       "      <td>0.000000</td>\n",
       "      <td>11.700000</td>\n",
       "      <td>16.170000</td>\n",
       "      <td>75.170000</td>\n",
       "      <td>420.300000</td>\n",
       "      <td>0.086370</td>\n",
       "      <td>0.064920</td>\n",
       "      <td>0.029560</td>\n",
       "      <td>0.020310</td>\n",
       "      <td>0.161900</td>\n",
       "      <td>...</td>\n",
       "      <td>13.010000</td>\n",
       "      <td>21.080000</td>\n",
       "      <td>84.110000</td>\n",
       "      <td>515.300000</td>\n",
       "      <td>0.116600</td>\n",
       "      <td>0.147200</td>\n",
       "      <td>0.114500</td>\n",
       "      <td>0.064930</td>\n",
       "      <td>0.250400</td>\n",
       "      <td>0.071460</td>\n",
       "    </tr>\n",
       "    <tr>\n",
       "      <th>50%</th>\n",
       "      <td>0.000000</td>\n",
       "      <td>13.370000</td>\n",
       "      <td>18.840000</td>\n",
       "      <td>86.240000</td>\n",
       "      <td>551.100000</td>\n",
       "      <td>0.095870</td>\n",
       "      <td>0.092630</td>\n",
       "      <td>0.061540</td>\n",
       "      <td>0.033500</td>\n",
       "      <td>0.179200</td>\n",
       "      <td>...</td>\n",
       "      <td>14.970000</td>\n",
       "      <td>25.410000</td>\n",
       "      <td>97.660000</td>\n",
       "      <td>686.500000</td>\n",
       "      <td>0.131300</td>\n",
       "      <td>0.211900</td>\n",
       "      <td>0.226700</td>\n",
       "      <td>0.099930</td>\n",
       "      <td>0.282200</td>\n",
       "      <td>0.080040</td>\n",
       "    </tr>\n",
       "    <tr>\n",
       "      <th>75%</th>\n",
       "      <td>1.000000</td>\n",
       "      <td>15.780000</td>\n",
       "      <td>21.800000</td>\n",
       "      <td>104.100000</td>\n",
       "      <td>782.700000</td>\n",
       "      <td>0.105300</td>\n",
       "      <td>0.130400</td>\n",
       "      <td>0.130700</td>\n",
       "      <td>0.074000</td>\n",
       "      <td>0.195700</td>\n",
       "      <td>...</td>\n",
       "      <td>18.790000</td>\n",
       "      <td>29.720000</td>\n",
       "      <td>125.400000</td>\n",
       "      <td>1084.000000</td>\n",
       "      <td>0.146000</td>\n",
       "      <td>0.339100</td>\n",
       "      <td>0.382900</td>\n",
       "      <td>0.161400</td>\n",
       "      <td>0.317900</td>\n",
       "      <td>0.092080</td>\n",
       "    </tr>\n",
       "    <tr>\n",
       "      <th>max</th>\n",
       "      <td>1.000000</td>\n",
       "      <td>28.110000</td>\n",
       "      <td>39.280000</td>\n",
       "      <td>188.500000</td>\n",
       "      <td>2501.000000</td>\n",
       "      <td>0.163400</td>\n",
       "      <td>0.345400</td>\n",
       "      <td>0.426800</td>\n",
       "      <td>0.201200</td>\n",
       "      <td>0.304000</td>\n",
       "      <td>...</td>\n",
       "      <td>36.040000</td>\n",
       "      <td>49.540000</td>\n",
       "      <td>251.200000</td>\n",
       "      <td>4254.000000</td>\n",
       "      <td>0.222600</td>\n",
       "      <td>1.058000</td>\n",
       "      <td>1.252000</td>\n",
       "      <td>0.291000</td>\n",
       "      <td>0.663800</td>\n",
       "      <td>0.207500</td>\n",
       "    </tr>\n",
       "  </tbody>\n",
       "</table>\n",
       "<p>8 rows × 31 columns</p>\n",
       "</div>"
      ],
      "text/plain": [
       "        diagnosis  radius_mean  texture_mean  perimeter_mean    area_mean  \\\n",
       "count  569.000000   569.000000    569.000000      569.000000   569.000000   \n",
       "mean     0.372583    14.127292     19.289649       91.969033   654.889104   \n",
       "std      0.483918     3.524049      4.301036       24.298981   351.914129   \n",
       "min      0.000000     6.981000      9.710000       43.790000   143.500000   \n",
       "25%      0.000000    11.700000     16.170000       75.170000   420.300000   \n",
       "50%      0.000000    13.370000     18.840000       86.240000   551.100000   \n",
       "75%      1.000000    15.780000     21.800000      104.100000   782.700000   \n",
       "max      1.000000    28.110000     39.280000      188.500000  2501.000000   \n",
       "\n",
       "       smoothness_mean  compactness_mean  concavity_mean  concave points_mean  \\\n",
       "count       569.000000        569.000000      569.000000           569.000000   \n",
       "mean          0.096360          0.104341        0.088799             0.048919   \n",
       "std           0.014064          0.052813        0.079720             0.038803   \n",
       "min           0.052630          0.019380        0.000000             0.000000   \n",
       "25%           0.086370          0.064920        0.029560             0.020310   \n",
       "50%           0.095870          0.092630        0.061540             0.033500   \n",
       "75%           0.105300          0.130400        0.130700             0.074000   \n",
       "max           0.163400          0.345400        0.426800             0.201200   \n",
       "\n",
       "       symmetry_mean  ...  radius_worst  texture_worst  perimeter_worst  \\\n",
       "count     569.000000  ...    569.000000     569.000000       569.000000   \n",
       "mean        0.181162  ...     16.269190      25.677223       107.261213   \n",
       "std         0.027414  ...      4.833242       6.146258        33.602542   \n",
       "min         0.106000  ...      7.930000      12.020000        50.410000   \n",
       "25%         0.161900  ...     13.010000      21.080000        84.110000   \n",
       "50%         0.179200  ...     14.970000      25.410000        97.660000   \n",
       "75%         0.195700  ...     18.790000      29.720000       125.400000   \n",
       "max         0.304000  ...     36.040000      49.540000       251.200000   \n",
       "\n",
       "        area_worst  smoothness_worst  compactness_worst  concavity_worst  \\\n",
       "count   569.000000        569.000000         569.000000       569.000000   \n",
       "mean    880.583128          0.132369           0.254265         0.272188   \n",
       "std     569.356993          0.022832           0.157336         0.208624   \n",
       "min     185.200000          0.071170           0.027290         0.000000   \n",
       "25%     515.300000          0.116600           0.147200         0.114500   \n",
       "50%     686.500000          0.131300           0.211900         0.226700   \n",
       "75%    1084.000000          0.146000           0.339100         0.382900   \n",
       "max    4254.000000          0.222600           1.058000         1.252000   \n",
       "\n",
       "       concave points_worst  symmetry_worst  fractal_dimension_worst  \n",
       "count            569.000000      569.000000               569.000000  \n",
       "mean               0.114606        0.290076                 0.083946  \n",
       "std                0.065732        0.061867                 0.018061  \n",
       "min                0.000000        0.156500                 0.055040  \n",
       "25%                0.064930        0.250400                 0.071460  \n",
       "50%                0.099930        0.282200                 0.080040  \n",
       "75%                0.161400        0.317900                 0.092080  \n",
       "max                0.291000        0.663800                 0.207500  \n",
       "\n",
       "[8 rows x 31 columns]"
      ]
     },
     "metadata": {},
     "output_type": "display_data"
    }
   ],
   "source": [
    "display(df.describe())"
   ]
  },
  {
   "cell_type": "markdown",
   "id": "215c4ef1",
   "metadata": {
    "id": "yuC5a_PVT-zG",
    "papermill": {
     "duration": 0.01926,
     "end_time": "2024-07-16T18:09:58.142210",
     "exception": false,
     "start_time": "2024-07-16T18:09:58.122950",
     "status": "completed"
    },
    "tags": []
   },
   "source": [
    "#### The dataset needs scaling."
   ]
  },
  {
   "cell_type": "code",
   "execution_count": 9,
   "id": "b575cb77",
   "metadata": {
    "execution": {
     "iopub.execute_input": "2024-07-16T18:09:58.181208Z",
     "iopub.status.busy": "2024-07-16T18:09:58.180765Z",
     "iopub.status.idle": "2024-07-16T18:09:58.537757Z",
     "shell.execute_reply": "2024-07-16T18:09:58.536296Z"
    },
    "id": "igV5pnquT-zG",
    "outputId": "1096ea81-bdde-463b-a84c-2a56be5351f1",
    "papermill": {
     "duration": 0.379465,
     "end_time": "2024-07-16T18:09:58.540609",
     "exception": false,
     "start_time": "2024-07-16T18:09:58.161144",
     "status": "completed"
    },
    "tags": []
   },
   "outputs": [
    {
     "name": "stdout",
     "output_type": "stream",
     "text": [
      "\n",
      "we have: 212 Person affected\n",
      "\n",
      "we have: 357 person not afected\n",
      "\n"
     ]
    },
    {
     "data": {
      "image/png": "[encoded data removed]",
      "text/plain": [
       "<Figure size 1000x600 with 1 Axes>"
      ]
     },
     "metadata": {},
     "output_type": "display_data"
    }
   ],
   "source": [
    "# first let's check if the outcom is balanced or not\n",
    "\n",
    "\n",
    "true = len(df.loc[df['diagnosis'] == 1])\n",
    "false = len(df.loc[df['diagnosis'] == 0])\n",
    "print(\"\\nwe have: {} Person affected\\n\".format(true))\n",
    "print(\"we have: {} person not afected\\n\".format(false))\n",
    "\n",
    "\n",
    "# let's plot this\n",
    "\n",
    "plt.figure(figsize=(10,6))\n",
    "# plt.hist(df['Outcome'],bins=2,edgecolor='black',color='skyblue')\n",
    "sns.countplot(x='diagnosis',data=df)\n",
    "\n",
    "plt.title('Distribution of df Outcomes', fontsize=16)\n",
    "plt.xlabel('Outcome', fontsize=14)\n",
    "plt.ylabel('Count', fontsize=14)\n",
    "\n",
    "plt.grid(True, linestyle='--', alpha=0.7)\n",
    "\n",
    "plt.xticks([0, 1], ['No', 'Yes'])\n",
    "\n",
    "\n",
    "\n",
    "plt.show()"
   ]
  },
  {
   "cell_type": "markdown",
   "id": "bf2b661b",
   "metadata": {
    "id": "eyXO1cP8T-zG",
    "papermill": {
     "duration": 0.018639,
     "end_time": "2024-07-16T18:09:58.578013",
     "exception": false,
     "start_time": "2024-07-16T18:09:58.559374",
     "status": "completed"
    },
    "tags": []
   },
   "source": [
    "### The dataset is unbalanced."
   ]
  },
  {
   "cell_type": "code",
   "execution_count": 10,
   "id": "6ccfdc5c",
   "metadata": {
    "execution": {
     "iopub.execute_input": "2024-07-16T18:09:58.624361Z",
     "iopub.status.busy": "2024-07-16T18:09:58.623970Z",
     "iopub.status.idle": "2024-07-16T18:10:10.266046Z",
     "shell.execute_reply": "2024-07-16T18:10:10.264657Z"
    },
    "id": "LNN1LV1cT-zG",
    "outputId": "59c36548-a607-43fd-e2ee-323274b02cb3",
    "papermill": {
     "duration": 11.672089,
     "end_time": "2024-07-16T18:10:10.271784",
     "exception": false,
     "start_time": "2024-07-16T18:09:58.599695",
     "status": "completed"
    },
    "tags": []
   },
   "outputs": [
    {
     "name": "stdout",
     "output_type": "stream",
     "text": [
      "\n",
      "___________________________________________________Histograms__________________________________________________\n",
      "\n"
     ]
    },
    {
     "data": {
      "image/png": "[encoded data removed]",
      "text/plain": [
       "<Figure size 1200x1000 with 36 Axes>"
      ]
     },
     "metadata": {},
     "output_type": "display_data"
    },
    {
     "name": "stdout",
     "output_type": "stream",
     "text": [
      "\n",
      "___________________________________________________Box plots____________________________________________________\n",
      "\n"
     ]
    },
    {
     "data": {
      "image/png": "[encoded data removed]",
      "text/plain": [
       "<Figure size 1200x1000 with 31 Axes>"
      ]
     },
     "metadata": {},
     "output_type": "display_data"
    }
   ],
   "source": [
    "print('\\n___________________________________________________Histograms__________________________________________________\\n')\n",
    "df.hist(figsize=(12, 10), bins=20,color='skyblue')\n",
    "plt.tight_layout()\n",
    "plt.show()\n",
    "\n",
    "\n",
    "\n",
    "print('\\n___________________________________________________Box plots____________________________________________________\\n')\n",
    "plt.figure(figsize=(12, 10))\n",
    "for i, column in enumerate(df.columns, 1):\n",
    "    plt.subplot(6, 6, i)\n",
    "    sns.boxplot(y=df[column],color='skyblue')\n",
    "    plt.title(column)\n",
    "\n",
    "plt.tight_layout()\n",
    "plt.show()"
   ]
  },
  {
   "cell_type": "code",
   "execution_count": 11,
   "id": "e345194b",
   "metadata": {
    "execution": {
     "iopub.execute_input": "2024-07-16T18:10:10.393605Z",
     "iopub.status.busy": "2024-07-16T18:10:10.393158Z",
     "iopub.status.idle": "2024-07-16T18:10:10.515117Z",
     "shell.execute_reply": "2024-07-16T18:10:10.513706Z"
    },
    "id": "QRhJv_i0T-zG",
    "outputId": "e1491c18-513e-493b-b08a-2650346e7e81",
    "papermill": {
     "duration": 0.220277,
     "end_time": "2024-07-16T18:10:10.518108",
     "exception": false,
     "start_time": "2024-07-16T18:10:10.297831",
     "status": "completed"
    },
    "tags": []
   },
   "outputs": [
    {
     "data": {
      "text/html": [
       "<style type=\"text/css\">\n",
       "#T_85f84_row0_col0 {\n",
       "  background-color: #313695;\n",
       "  color: #f1f1f1;\n",
       "}\n",
       "#T_85f84_row1_col0 {\n",
       "  background-color: #70a9cf;\n",
       "  color: #f1f1f1;\n",
       "}\n",
       "#T_85f84_row2_col0 {\n",
       "  background-color: #76afd2;\n",
       "  color: #f1f1f1;\n",
       "}\n",
       "#T_85f84_row3_col0, #T_85f84_row4_col0 {\n",
       "  background-color: #78b0d3;\n",
       "  color: #f1f1f1;\n",
       "}\n",
       "#T_85f84_row5_col0 {\n",
       "  background-color: #8abeda;\n",
       "  color: #000000;\n",
       "}\n",
       "#T_85f84_row6_col0 {\n",
       "  background-color: #8ec2dc;\n",
       "  color: #000000;\n",
       "}\n",
       "#T_85f84_row7_col0 {\n",
       "  background-color: #90c3dd;\n",
       "  color: #000000;\n",
       "}\n",
       "#T_85f84_row8_col0 {\n",
       "  background-color: #9bcce2;\n",
       "  color: #000000;\n",
       "}\n",
       "#T_85f84_row9_col0 {\n",
       "  background-color: #a1d1e5;\n",
       "  color: #000000;\n",
       "}\n",
       "#T_85f84_row10_col0 {\n",
       "  background-color: #b4deec;\n",
       "  color: #000000;\n",
       "}\n",
       "#T_85f84_row11_col0 {\n",
       "  background-color: #d4edf4;\n",
       "  color: #000000;\n",
       "}\n",
       "#T_85f84_row12_col0 {\n",
       "  background-color: #d8eff6;\n",
       "  color: #000000;\n",
       "}\n",
       "#T_85f84_row13_col0 {\n",
       "  background-color: #e1f3f6;\n",
       "  color: #000000;\n",
       "}\n",
       "#T_85f84_row14_col0 {\n",
       "  background-color: #e5f5ef;\n",
       "  color: #000000;\n",
       "}\n",
       "#T_85f84_row15_col0 {\n",
       "  background-color: #e7f6eb;\n",
       "  color: #000000;\n",
       "}\n",
       "#T_85f84_row16_col0 {\n",
       "  background-color: #fffcba;\n",
       "  color: #000000;\n",
       "}\n",
       "#T_85f84_row17_col0 {\n",
       "  background-color: #fff2ac;\n",
       "  color: #000000;\n",
       "}\n",
       "#T_85f84_row18_col0, #T_85f84_row19_col0 {\n",
       "  background-color: #fff0a8;\n",
       "  color: #000000;\n",
       "}\n",
       "#T_85f84_row20_col0 {\n",
       "  background-color: #feeda4;\n",
       "  color: #000000;\n",
       "}\n",
       "#T_85f84_row21_col0 {\n",
       "  background-color: #fee090;\n",
       "  color: #000000;\n",
       "}\n",
       "#T_85f84_row22_col0 {\n",
       "  background-color: #fed283;\n",
       "  color: #000000;\n",
       "}\n",
       "#T_85f84_row23_col0 {\n",
       "  background-color: #fece7f;\n",
       "  color: #000000;\n",
       "}\n",
       "#T_85f84_row24_col0 {\n",
       "  background-color: #fdc173;\n",
       "  color: #000000;\n",
       "}\n",
       "#T_85f84_row25_col0 {\n",
       "  background-color: #fdad60;\n",
       "  color: #000000;\n",
       "}\n",
       "#T_85f84_row26_col0 {\n",
       "  background-color: #e14430;\n",
       "  color: #f1f1f1;\n",
       "}\n",
       "#T_85f84_row27_col0, #T_85f84_row28_col0 {\n",
       "  background-color: #c01a27;\n",
       "  color: #f1f1f1;\n",
       "}\n",
       "#T_85f84_row29_col0 {\n",
       "  background-color: #bd1726;\n",
       "  color: #f1f1f1;\n",
       "}\n",
       "#T_85f84_row30_col0 {\n",
       "  background-color: #a50026;\n",
       "  color: #f1f1f1;\n",
       "}\n",
       "</style>\n",
       "<table id=\"T_85f84\">\n",
       "  <thead>\n",
       "    <tr>\n",
       "      <th class=\"blank level0\" >&nbsp;</th>\n",
       "      <th id=\"T_85f84_level0_col0\" class=\"col_heading level0 col0\" >diagnosis</th>\n",
       "    </tr>\n",
       "  </thead>\n",
       "  <tbody>\n",
       "    <tr>\n",
       "      <th id=\"T_85f84_level0_row0\" class=\"row_heading level0 row0\" >diagnosis</th>\n",
       "      <td id=\"T_85f84_row0_col0\" class=\"data row0 col0\" >1.000000</td>\n",
       "    </tr>\n",
       "    <tr>\n",
       "      <th id=\"T_85f84_level0_row1\" class=\"row_heading level0 row1\" >concave points_worst</th>\n",
       "      <td id=\"T_85f84_row1_col0\" class=\"data row1 col0\" >0.793566</td>\n",
       "    </tr>\n",
       "    <tr>\n",
       "      <th id=\"T_85f84_level0_row2\" class=\"row_heading level0 row2\" >perimeter_worst</th>\n",
       "      <td id=\"T_85f84_row2_col0\" class=\"data row2 col0\" >0.782914</td>\n",
       "    </tr>\n",
       "    <tr>\n",
       "      <th id=\"T_85f84_level0_row3\" class=\"row_heading level0 row3\" >concave points_mean</th>\n",
       "      <td id=\"T_85f84_row3_col0\" class=\"data row3 col0\" >0.776614</td>\n",
       "    </tr>\n",
       "    <tr>\n",
       "      <th id=\"T_85f84_level0_row4\" class=\"row_heading level0 row4\" >radius_worst</th>\n",
       "      <td id=\"T_85f84_row4_col0\" class=\"data row4 col0\" >0.776454</td>\n",
       "    </tr>\n",
       "    <tr>\n",
       "      <th id=\"T_85f84_level0_row5\" class=\"row_heading level0 row5\" >perimeter_mean</th>\n",
       "      <td id=\"T_85f84_row5_col0\" class=\"data row5 col0\" >0.742636</td>\n",
       "    </tr>\n",
       "    <tr>\n",
       "      <th id=\"T_85f84_level0_row6\" class=\"row_heading level0 row6\" >area_worst</th>\n",
       "      <td id=\"T_85f84_row6_col0\" class=\"data row6 col0\" >0.733825</td>\n",
       "    </tr>\n",
       "    <tr>\n",
       "      <th id=\"T_85f84_level0_row7\" class=\"row_heading level0 row7\" >radius_mean</th>\n",
       "      <td id=\"T_85f84_row7_col0\" class=\"data row7 col0\" >0.730029</td>\n",
       "    </tr>\n",
       "    <tr>\n",
       "      <th id=\"T_85f84_level0_row8\" class=\"row_heading level0 row8\" >area_mean</th>\n",
       "      <td id=\"T_85f84_row8_col0\" class=\"data row8 col0\" >0.708984</td>\n",
       "    </tr>\n",
       "    <tr>\n",
       "      <th id=\"T_85f84_level0_row9\" class=\"row_heading level0 row9\" >concavity_mean</th>\n",
       "      <td id=\"T_85f84_row9_col0\" class=\"data row9 col0\" >0.696360</td>\n",
       "    </tr>\n",
       "    <tr>\n",
       "      <th id=\"T_85f84_level0_row10\" class=\"row_heading level0 row10\" >concavity_worst</th>\n",
       "      <td id=\"T_85f84_row10_col0\" class=\"data row10 col0\" >0.659610</td>\n",
       "    </tr>\n",
       "    <tr>\n",
       "      <th id=\"T_85f84_level0_row11\" class=\"row_heading level0 row11\" >compactness_mean</th>\n",
       "      <td id=\"T_85f84_row11_col0\" class=\"data row11 col0\" >0.596534</td>\n",
       "    </tr>\n",
       "    <tr>\n",
       "      <th id=\"T_85f84_level0_row12\" class=\"row_heading level0 row12\" >compactness_worst</th>\n",
       "      <td id=\"T_85f84_row12_col0\" class=\"data row12 col0\" >0.590998</td>\n",
       "    </tr>\n",
       "    <tr>\n",
       "      <th id=\"T_85f84_level0_row13\" class=\"row_heading level0 row13\" >radius_se</th>\n",
       "      <td id=\"T_85f84_row13_col0\" class=\"data row13 col0\" >0.567134</td>\n",
       "    </tr>\n",
       "    <tr>\n",
       "      <th id=\"T_85f84_level0_row14\" class=\"row_heading level0 row14\" >perimeter_se</th>\n",
       "      <td id=\"T_85f84_row14_col0\" class=\"data row14 col0\" >0.556141</td>\n",
       "    </tr>\n",
       "    <tr>\n",
       "      <th id=\"T_85f84_level0_row15\" class=\"row_heading level0 row15\" >area_se</th>\n",
       "      <td id=\"T_85f84_row15_col0\" class=\"data row15 col0\" >0.548236</td>\n",
       "    </tr>\n",
       "    <tr>\n",
       "      <th id=\"T_85f84_level0_row16\" class=\"row_heading level0 row16\" >texture_worst</th>\n",
       "      <td id=\"T_85f84_row16_col0\" class=\"data row16 col0\" >0.456903</td>\n",
       "    </tr>\n",
       "    <tr>\n",
       "      <th id=\"T_85f84_level0_row17\" class=\"row_heading level0 row17\" >smoothness_worst</th>\n",
       "      <td id=\"T_85f84_row17_col0\" class=\"data row17 col0\" >0.421465</td>\n",
       "    </tr>\n",
       "    <tr>\n",
       "      <th id=\"T_85f84_level0_row18\" class=\"row_heading level0 row18\" >symmetry_worst</th>\n",
       "      <td id=\"T_85f84_row18_col0\" class=\"data row18 col0\" >0.416294</td>\n",
       "    </tr>\n",
       "    <tr>\n",
       "      <th id=\"T_85f84_level0_row19\" class=\"row_heading level0 row19\" >texture_mean</th>\n",
       "      <td id=\"T_85f84_row19_col0\" class=\"data row19 col0\" >0.415185</td>\n",
       "    </tr>\n",
       "    <tr>\n",
       "      <th id=\"T_85f84_level0_row20\" class=\"row_heading level0 row20\" >concave points_se</th>\n",
       "      <td id=\"T_85f84_row20_col0\" class=\"data row20 col0\" >0.408042</td>\n",
       "    </tr>\n",
       "    <tr>\n",
       "      <th id=\"T_85f84_level0_row21\" class=\"row_heading level0 row21\" >smoothness_mean</th>\n",
       "      <td id=\"T_85f84_row21_col0\" class=\"data row21 col0\" >0.358560</td>\n",
       "    </tr>\n",
       "    <tr>\n",
       "      <th id=\"T_85f84_level0_row22\" class=\"row_heading level0 row22\" >symmetry_mean</th>\n",
       "      <td id=\"T_85f84_row22_col0\" class=\"data row22 col0\" >0.330499</td>\n",
       "    </tr>\n",
       "    <tr>\n",
       "      <th id=\"T_85f84_level0_row23\" class=\"row_heading level0 row23\" >fractal_dimension_worst</th>\n",
       "      <td id=\"T_85f84_row23_col0\" class=\"data row23 col0\" >0.323872</td>\n",
       "    </tr>\n",
       "    <tr>\n",
       "      <th id=\"T_85f84_level0_row24\" class=\"row_heading level0 row24\" >compactness_se</th>\n",
       "      <td id=\"T_85f84_row24_col0\" class=\"data row24 col0\" >0.292999</td>\n",
       "    </tr>\n",
       "    <tr>\n",
       "      <th id=\"T_85f84_level0_row25\" class=\"row_heading level0 row25\" >concavity_se</th>\n",
       "      <td id=\"T_85f84_row25_col0\" class=\"data row25 col0\" >0.253730</td>\n",
       "    </tr>\n",
       "    <tr>\n",
       "      <th id=\"T_85f84_level0_row26\" class=\"row_heading level0 row26\" >fractal_dimension_se</th>\n",
       "      <td id=\"T_85f84_row26_col0\" class=\"data row26 col0\" >0.077972</td>\n",
       "    </tr>\n",
       "    <tr>\n",
       "      <th id=\"T_85f84_level0_row27\" class=\"row_heading level0 row27\" >symmetry_se</th>\n",
       "      <td id=\"T_85f84_row27_col0\" class=\"data row27 col0\" >-0.006522</td>\n",
       "    </tr>\n",
       "    <tr>\n",
       "      <th id=\"T_85f84_level0_row28\" class=\"row_heading level0 row28\" >texture_se</th>\n",
       "      <td id=\"T_85f84_row28_col0\" class=\"data row28 col0\" >-0.008303</td>\n",
       "    </tr>\n",
       "    <tr>\n",
       "      <th id=\"T_85f84_level0_row29\" class=\"row_heading level0 row29\" >fractal_dimension_mean</th>\n",
       "      <td id=\"T_85f84_row29_col0\" class=\"data row29 col0\" >-0.012838</td>\n",
       "    </tr>\n",
       "    <tr>\n",
       "      <th id=\"T_85f84_level0_row30\" class=\"row_heading level0 row30\" >smoothness_se</th>\n",
       "      <td id=\"T_85f84_row30_col0\" class=\"data row30 col0\" >-0.067016</td>\n",
       "    </tr>\n",
       "  </tbody>\n",
       "</table>\n"
      ],
      "text/plain": [
       "<pandas.io.formats.style.Styler at 0x78b89ad14d60>"
      ]
     },
     "execution_count": 11,
     "metadata": {},
     "output_type": "execute_result"
    }
   ],
   "source": [
    "corr = df[df.columns].corr()['diagnosis'].sort_values(ascending = False)\n",
    "corr = corr.to_frame()\n",
    "corr.style.background_gradient(cmap=\"RdYlBu\")"
   ]
  },
  {
   "cell_type": "code",
   "execution_count": 12,
   "id": "5dc49a24",
   "metadata": {
    "execution": {
     "iopub.execute_input": "2024-07-16T18:10:10.579818Z",
     "iopub.status.busy": "2024-07-16T18:10:10.579216Z",
     "iopub.status.idle": "2024-07-16T18:10:10.594391Z",
     "shell.execute_reply": "2024-07-16T18:10:10.593081Z"
    },
    "id": "pAgwMRKhT-zH",
    "outputId": "e17d336c-4a61-4ebd-ea2e-a81d3e9ce002",
    "papermill": {
     "duration": 0.050699,
     "end_time": "2024-07-16T18:10:10.597075",
     "exception": false,
     "start_time": "2024-07-16T18:10:10.546376",
     "status": "completed"
    },
    "tags": []
   },
   "outputs": [
    {
     "data": {
      "text/plain": [
       "((455, 30), (114, 30), (455,), (114,))"
      ]
     },
     "execution_count": 12,
     "metadata": {},
     "output_type": "execute_result"
    }
   ],
   "source": [
    "X = df.drop('diagnosis',axis=1)\n",
    "output = df['diagnosis']\n",
    "X_train,X_test,y_train,y_test = train_test_split(X,output,test_size=0.2,random_state=42)\n",
    "X_train.shape, X_test.shape, y_train.shape, y_test.shape"
   ]
  },
  {
   "cell_type": "markdown",
   "id": "d60a26ce",
   "metadata": {
    "id": "QnpWIbZ5T-zH",
    "papermill": {
     "duration": 0.028127,
     "end_time": "2024-07-16T18:10:10.652271",
     "exception": false,
     "start_time": "2024-07-16T18:10:10.624144",
     "status": "completed"
    },
    "tags": []
   },
   "source": [
    " <div style=\"background-color: #fcf8e8; /* Notepad yellow */\n",
    "           font-family: 'Times New Roman', serif; /* Classic font for note-taking */\n",
    "           color: #000;\n",
    "           font-size: 16px; /* Standard text size */\n",
    "           line-height: 1.5; /* Spacing between lines of text */\n",
    "           text-align: left;\n",
    "           border-radius: 5px;\n",
    "           padding: 20px;\n",
    "           margin: 20px;\n",
    "           width: 90%;\n",
    "           box-shadow: 5px 5px 15px rgba(0, 0, 0, 0.2); /* Realistic shadow */\n",
    "           background-image: linear-gradient(rgba(0, 0, 0, 0.1) 1px, transparent 1px),\n",
    "                             linear-gradient(to right, rgba(0, 0, 0, 0.1) 1px, transparent 1px);\n",
    "           background-size: 100% 30px, 30px 100%; /* Size of the lines */\n",
    "           border: 1px solid #ddd; /* Border for paper edge */\n",
    "           \">\n",
    "    <h2 style=\"text-align: center; color: #d4e157;\">📝 Notes 📝</h2>\n",
    "    <hr>\n",
    "    <ul> we need to handel the outlier problem </ul>\n",
    "    <ul> It is best to remove the last 5 columns due to their very low correlation with the target variable. </ul>\n",
    "</div>"
   ]
  },
  {
   "cell_type": "markdown",
   "id": "3ce215fe",
   "metadata": {
    "id": "5QwKVpiHT-zH",
    "papermill": {
     "duration": 0.027994,
     "end_time": "2024-07-16T18:10:10.709720",
     "exception": false,
     "start_time": "2024-07-16T18:10:10.681726",
     "status": "completed"
    },
    "tags": []
   },
   "source": [
    "\n",
    "<h1 style=\"background-color: #12f7ff;\n",
    "           font-family: 'Trebuchet MS', sans-serif;\n",
    "           color: #000;\n",
    "           font-size: 150%;\n",
    "           text-align: center;\n",
    "           border-radius: 50px 50px;\n",
    "           padding: 20px 20px ;\n",
    "           margin: 30px 30px;\n",
    "           box-shadow: 0 0 10px rgba(18,247,255,0.6),\n",
    "    0 0 20px rgba(18,247,255,0.6),\n",
    "    0 0 30px rgba(18,247,255,0.6),\n",
    "    0 0 40px rgba(18,247,255,0.6);\">\n",
    "    🔻🌟 Data Preprocessing for Modeling 🌟🔻</h1>\n"
   ]
  },
  {
   "cell_type": "code",
   "execution_count": 13,
   "id": "2d097196",
   "metadata": {
    "execution": {
     "iopub.execute_input": "2024-07-16T18:10:10.771917Z",
     "iopub.status.busy": "2024-07-16T18:10:10.771498Z",
     "iopub.status.idle": "2024-07-16T18:10:10.779625Z",
     "shell.execute_reply": "2024-07-16T18:10:10.778374Z"
    },
    "id": "p4n1jWsET-zH",
    "outputId": "9e2debd7-f8c0-47d3-88a4-ac890ca09b05",
    "papermill": {
     "duration": 0.043913,
     "end_time": "2024-07-16T18:10:10.783253",
     "exception": false,
     "start_time": "2024-07-16T18:10:10.739340",
     "status": "completed"
    },
    "tags": []
   },
   "outputs": [
    {
     "name": "stdout",
     "output_type": "stream",
     "text": [
      "before (569, 31)\n",
      "after (569, 26)\n"
     ]
    }
   ],
   "source": [
    "# starting by removing the columns with low correlation\n",
    "\n",
    "print(\"before\",df.shape)\n",
    "df = df.drop(columns=['fractal_dimension_se','symmetry_se','texture_se','fractal_dimension_mean','smoothness_se'],axis=1)\n",
    "print(\"after\",df.shape)"
   ]
  },
  {
   "cell_type": "code",
   "execution_count": 14,
   "id": "0057e5c2",
   "metadata": {
    "execution": {
     "iopub.execute_input": "2024-07-16T18:10:10.838963Z",
     "iopub.status.busy": "2024-07-16T18:10:10.838568Z",
     "iopub.status.idle": "2024-07-16T18:10:10.918058Z",
     "shell.execute_reply": "2024-07-16T18:10:10.916215Z"
    },
    "id": "9BU9yD0PT-zH",
    "outputId": "6cdb4d3d-260c-451c-855d-1379c415fbb0",
    "papermill": {
     "duration": 0.110926,
     "end_time": "2024-07-16T18:10:10.921113",
     "exception": false,
     "start_time": "2024-07-16T18:10:10.810187",
     "status": "completed"
    },
    "tags": []
   },
   "outputs": [
    {
     "name": "stdout",
     "output_type": "stream",
     "text": [
      "diagnosis  ---> everything is good \n",
      "radius_mean ---> theres are outliers here \n",
      "texture_mean ---> theres are outliers here \n",
      "perimeter_mean ---> theres are outliers here \n",
      "area_mean ---> theres are outliers here \n",
      "smoothness_mean ---> theres are outliers here \n",
      "compactness_mean ---> theres are outliers here \n",
      "concavity_mean ---> theres are outliers here \n",
      "concave points_mean ---> theres are outliers here \n",
      "symmetry_mean ---> theres are outliers here \n",
      "radius_se ---> theres are outliers here \n",
      "perimeter_se ---> theres are outliers here \n",
      "area_se ---> theres are outliers here \n",
      "compactness_se ---> theres are outliers here \n",
      "concavity_se ---> theres are outliers here \n",
      "concave points_se ---> theres are outliers here \n",
      "radius_worst ---> theres are outliers here \n",
      "texture_worst ---> theres are outliers here \n",
      "perimeter_worst ---> theres are outliers here \n",
      "area_worst ---> theres are outliers here \n",
      "smoothness_worst ---> theres are outliers here \n",
      "compactness_worst ---> theres are outliers here \n",
      "concavity_worst ---> theres are outliers here \n",
      "concave points_worst  ---> everything is good \n",
      "symmetry_worst ---> theres are outliers here \n",
      "fractal_dimension_worst ---> theres are outliers here \n"
     ]
    }
   ],
   "source": [
    "# handling outliers\n",
    "\n",
    "# outliers detection\n",
    "\n",
    "for feature in df:\n",
    "    Q1 = df[feature].quantile(0.25)\n",
    "    Q3 = df[feature].quantile(0.75)\n",
    "    IQR = Q3-Q1\n",
    "    lower = Q1-1.5*IQR\n",
    "    upper = Q3+1.5*IQR\n",
    "    if df[(df[feature]>upper)].any(axis=None):\n",
    "        print(feature, \"---> theres are outliers here \")\n",
    "    else:\n",
    "        print(feature, \" ---> everything is good \")\n"
   ]
  },
  {
   "cell_type": "code",
   "execution_count": 15,
   "id": "c0634904",
   "metadata": {
    "execution": {
     "iopub.execute_input": "2024-07-16T18:10:10.977631Z",
     "iopub.status.busy": "2024-07-16T18:10:10.976229Z",
     "iopub.status.idle": "2024-07-16T18:10:10.982649Z",
     "shell.execute_reply": "2024-07-16T18:10:10.981615Z"
    },
    "id": "J_sJJiO-T-zH",
    "papermill": {
     "duration": 0.037412,
     "end_time": "2024-07-16T18:10:10.985205",
     "exception": false,
     "start_time": "2024-07-16T18:10:10.947793",
     "status": "completed"
    },
    "tags": []
   },
   "outputs": [],
   "source": [
    "\n",
    "# columns = df.columns.drop('diagnosis','concave points_worst')\n",
    "\n",
    "# # Function to remove outliers using IQR\n",
    "# def remove_outliers(df, columns):\n",
    "#     for column in columns:\n",
    "#         Q1 = df[column].quantile(0.25)\n",
    "#         Q3 = df[column].quantile(0.75)\n",
    "#         IQR = Q3 - Q1\n",
    "#         lower_bound = Q1 - 1.5 * IQR\n",
    "#         upper_bound = Q3 + 1.5 * IQR\n",
    "#         df = df[(df[column] >= lower_bound) & (df[column] <= upper_bound)]\n",
    "#     return df\n",
    "\n",
    "# # Remove outliers from the specified columns\n",
    "# df = remove_outliers(df,columns)\n",
    "\n",
    "# plt.figure(figsize=(12, 10))\n",
    "# for i, column in enumerate(df.columns, 1):\n",
    "#     plt.subplot(6, 6, i)\n",
    "#     sns.boxplot(y=df[column],color='skyblue')\n",
    "#     plt.title(column)\n",
    "\n",
    "# plt.tight_layout()\n",
    "# plt.show()"
   ]
  },
  {
   "cell_type": "markdown",
   "id": "811cd751",
   "metadata": {
    "id": "4DPEAFCYT-zI",
    "papermill": {
     "duration": 0.026721,
     "end_time": "2024-07-16T18:10:11.038866",
     "exception": false,
     "start_time": "2024-07-16T18:10:11.012145",
     "status": "completed"
    },
    "tags": []
   },
   "source": [
    "### WHY I DON'T REMOVE THE OUTLIERS\n",
    "\n",
    "##### I found that removing them result in a lower in the accuracy of our model so it is better to keep them\n",
    "##### with the outlier the model performe 0.95 accuracy in the training dataset and without them 0.92\n"
   ]
  },
  {
   "cell_type": "code",
   "execution_count": 16,
   "id": "0e058b28",
   "metadata": {
    "execution": {
     "iopub.execute_input": "2024-07-16T18:10:11.097286Z",
     "iopub.status.busy": "2024-07-16T18:10:11.096845Z",
     "iopub.status.idle": "2024-07-16T18:10:11.109712Z",
     "shell.execute_reply": "2024-07-16T18:10:11.108450Z"
    },
    "id": "Au4PZxPET-zI",
    "outputId": "adf57e57-a069-432c-a1b1-b96c48815293",
    "papermill": {
     "duration": 0.046029,
     "end_time": "2024-07-16T18:10:11.112293",
     "exception": false,
     "start_time": "2024-07-16T18:10:11.066264",
     "status": "completed"
    },
    "tags": []
   },
   "outputs": [
    {
     "data": {
      "text/plain": [
       "((455, 25), (114, 25), (455,), (114,))"
      ]
     },
     "execution_count": 16,
     "metadata": {},
     "output_type": "execute_result"
    }
   ],
   "source": [
    "# Train-Test Split\n",
    "\n",
    "X = df.drop('diagnosis',axis=1)\n",
    "output = df['diagnosis']\n",
    "\n",
    "X_train,X_test,y_train,y_test = train_test_split(X,output,test_size=0.2,random_state=42)\n",
    "X_train.shape, X_test.shape, y_train.shape, y_test.shape"
   ]
  },
  {
   "cell_type": "code",
   "execution_count": 17,
   "id": "26e3397c",
   "metadata": {
    "execution": {
     "iopub.execute_input": "2024-07-16T18:10:11.169126Z",
     "iopub.status.busy": "2024-07-16T18:10:11.168711Z",
     "iopub.status.idle": "2024-07-16T18:10:11.183783Z",
     "shell.execute_reply": "2024-07-16T18:10:11.182148Z"
    },
    "id": "htGkBXYQT-zI",
    "outputId": "747a3882-2ed7-4d45-eada-1a2023193a72",
    "papermill": {
     "duration": 0.047401,
     "end_time": "2024-07-16T18:10:11.186835",
     "exception": false,
     "start_time": "2024-07-16T18:10:11.139434",
     "status": "completed"
    },
    "tags": []
   },
   "outputs": [
    {
     "name": "stdout",
     "output_type": "stream",
     "text": [
      "Min -3.1000113456787695 \n",
      "Max 11.310294355664679\n"
     ]
    }
   ],
   "source": [
    "scaler =StandardScaler()\n",
    "X_train = scaler.fit_transform(X_train)\n",
    "X_test = scaler.transform(X_test)\n",
    "\n",
    "print(f\"Min\",X_train.min(),\n",
    "     \"\\nMax\",X_train.max())"
   ]
  },
  {
   "cell_type": "markdown",
   "id": "ce327456",
   "metadata": {
    "id": "pa7-76R_T-zI",
    "papermill": {
     "duration": 0.026376,
     "end_time": "2024-07-16T18:10:11.241171",
     "exception": false,
     "start_time": "2024-07-16T18:10:11.214795",
     "status": "completed"
    },
    "tags": []
   },
   "source": [
    "<h1 style=\"background-color: #12f7ff;\n",
    "           font-family: 'Trebuchet MS', sans-serif;\n",
    "           color: #000;\n",
    "           font-size: 150%;\n",
    "           text-align: center;\n",
    "           border-radius: 50px 50px;\n",
    "           padding: 20px 20px ;\n",
    "           margin: 30px 30px;\n",
    "           box-shadow: 0 0 10px rgba(18,247,255,0.6),\n",
    "    0 0 20px rgba(18,247,255,0.6),\n",
    "    0 0 30px rgba(18,247,255,0.6),\n",
    "    0 0 40px rgba(18,247,255,0.6);\">\n",
    "    🔻🌟 Modeling 🌟🔻</h1>"
   ]
  },
  {
   "cell_type": "markdown",
   "id": "79162d8e",
   "metadata": {
    "id": "6-Y2Z6sKT-zI",
    "papermill": {
     "duration": 0.026651,
     "end_time": "2024-07-16T18:10:11.295190",
     "exception": false,
     "start_time": "2024-07-16T18:10:11.268539",
     "status": "completed"
    },
    "tags": []
   },
   "source": [
    "<div style=\"background-color: #fcf8e8; /* Notepad yellow */\n",
    "           font-family: 'Times New Roman', serif; /* Classic font for note-taking */\n",
    "           color: #000;\n",
    "           font-size: 16px; /* Standard text size */\n",
    "           line-height: 1.5; /* Spacing between lines of text */\n",
    "           text-align: left;\n",
    "           border-radius: 5px;\n",
    "           padding: 20px;\n",
    "           margin: 20px;\n",
    "           width: 90%;\n",
    "           box-shadow: 5px 5px 15px rgba(0, 0, 0, 0.2); /* Realistic shadow */\n",
    "           background-image: linear-gradient(rgba(0, 0, 0, 0.1) 1px, transparent 1px),\n",
    "                             linear-gradient(to right, rgba(0, 0, 0, 0.1) 1px, transparent 1px);\n",
    "           background-size: 100% 30px, 30px 100%; /* Size of the lines */\n",
    "           border: 1px solid #ddd; /* Border for paper edge */\n",
    "           \">\n",
    "    <h2 style=\"text-align: center; color: #d4e157;\">📝 Notes 📝</h2>\n",
    "    <hr>\n",
    "    <h3>Definitions</hh3>\n",
    "<h4>Optuna</h4>\n",
    "<p>Optuna is an open-source hyperparameter optimization framework designed to automate the search for the best hyperparameters for machine learning algorithms. It provides a simple and flexible API to minimize the effort required to perform hyperparameter tuning, supporting various optimization algorithms. Optuna is particularly known for its efficiency and effectiveness in finding optimal parameters for complex models, making it widely used in both academia and industry.</p>\n",
    "\n",
    "<h4>AdaBoostClassifier</h4>\n",
    "    <p><code>AdaBoostClassifier</code> is a part of the sklearn.ensemble module, which implements the Adaptive Boosting algorithm for classification tasks. AdaBoost works by combining multiple weak classifiers to create a strong classifier. It iteratively adjusts the weights of incorrectly classified instances, allowing subsequent classifiers to focus more on difficult cases.</p>\n",
    "    <h4>What we will do first: </h4>\n",
    "    <h5> let's find the best model </h5>\n",
    "</div>"
   ]
  },
  {
   "cell_type": "code",
   "execution_count": 18,
   "id": "e3d54050",
   "metadata": {
    "execution": {
     "iopub.execute_input": "2024-07-16T18:10:11.352069Z",
     "iopub.status.busy": "2024-07-16T18:10:11.351440Z",
     "iopub.status.idle": "2024-07-16T18:10:12.327607Z",
     "shell.execute_reply": "2024-07-16T18:10:12.326108Z"
    },
    "id": "htFHYG9jT-zI",
    "outputId": "6922e1f2-8e0c-4a81-ca3e-2c4813656516",
    "papermill": {
     "duration": 1.007382,
     "end_time": "2024-07-16T18:10:12.330332",
     "exception": false,
     "start_time": "2024-07-16T18:10:11.322950",
     "status": "completed"
    },
    "tags": []
   },
   "outputs": [
    {
     "data": {
      "text/html": [
       "<div>\n",
       "<style scoped>\n",
       "    .dataframe tbody tr th:only-of-type {\n",
       "        vertical-align: middle;\n",
       "    }\n",
       "\n",
       "    .dataframe tbody tr th {\n",
       "        vertical-align: top;\n",
       "    }\n",
       "\n",
       "    .dataframe thead th {\n",
       "        text-align: right;\n",
       "    }\n",
       "</style>\n",
       "<table border=\"1\" class=\"dataframe\">\n",
       "  <thead>\n",
       "    <tr style=\"text-align: right;\">\n",
       "      <th></th>\n",
       "      <th>Model</th>\n",
       "      <th>Train Accuracy</th>\n",
       "      <th>Test Accuracy</th>\n",
       "    </tr>\n",
       "  </thead>\n",
       "  <tbody>\n",
       "    <tr>\n",
       "      <th>0</th>\n",
       "      <td>Logistic Regression</td>\n",
       "      <td>0.986813</td>\n",
       "      <td>0.973684</td>\n",
       "    </tr>\n",
       "    <tr>\n",
       "      <th>1</th>\n",
       "      <td>Decision Tree</td>\n",
       "      <td>1.000000</td>\n",
       "      <td>0.938596</td>\n",
       "    </tr>\n",
       "    <tr>\n",
       "      <th>2</th>\n",
       "      <td>Random Forest</td>\n",
       "      <td>1.000000</td>\n",
       "      <td>0.964912</td>\n",
       "    </tr>\n",
       "    <tr>\n",
       "      <th>3</th>\n",
       "      <td>Gradient Boosting</td>\n",
       "      <td>0.989011</td>\n",
       "      <td>0.956140</td>\n",
       "    </tr>\n",
       "    <tr>\n",
       "      <th>4</th>\n",
       "      <td>AdaBoost</td>\n",
       "      <td>1.000000</td>\n",
       "      <td>0.973684</td>\n",
       "    </tr>\n",
       "    <tr>\n",
       "      <th>5</th>\n",
       "      <td>Support Vector Machine</td>\n",
       "      <td>0.986813</td>\n",
       "      <td>0.973684</td>\n",
       "    </tr>\n",
       "    <tr>\n",
       "      <th>6</th>\n",
       "      <td>K-Nearest Neighbors</td>\n",
       "      <td>0.973626</td>\n",
       "      <td>0.964912</td>\n",
       "    </tr>\n",
       "  </tbody>\n",
       "</table>\n",
       "</div>"
      ],
      "text/plain": [
       "                    Model  Train Accuracy  Test Accuracy\n",
       "0     Logistic Regression        0.986813       0.973684\n",
       "1           Decision Tree        1.000000       0.938596\n",
       "2           Random Forest        1.000000       0.964912\n",
       "3       Gradient Boosting        0.989011       0.956140\n",
       "4                AdaBoost        1.000000       0.973684\n",
       "5  Support Vector Machine        0.986813       0.973684\n",
       "6     K-Nearest Neighbors        0.973626       0.964912"
      ]
     },
     "execution_count": 18,
     "metadata": {},
     "output_type": "execute_result"
    }
   ],
   "source": [
    "classifiers = {\n",
    "    \"Logistic Regression\": LogisticRegression( max_iter=1000),\n",
    "    \"Decision Tree\": DecisionTreeClassifier(),\n",
    "    \"Random Forest\": RandomForestClassifier(max_depth=15),\n",
    "    \"Gradient Boosting\": GradientBoostingClassifier(n_estimators=100, validation_fraction=0.1, n_iter_no_change=10),\n",
    "    \"AdaBoost\": AdaBoostClassifier(),\n",
    "    \"Support Vector Machine\": SVC(),\n",
    "    \"K-Nearest Neighbors\": KNeighborsClassifier()\n",
    "}\n",
    "train_accuracies = {}\n",
    "test_accuracies = {}\n",
    "\n",
    "for name, clf in classifiers.items():\n",
    "    clf.fit(X_train, y_train)\n",
    "    y_train_pred = clf.predict(X_train)\n",
    "    y_test_pred = clf.predict(X_test)\n",
    "    train_accuracies[name] = accuracy_score(y_train, y_train_pred)\n",
    "    test_accuracies[name] = accuracy_score(y_test, y_test_pred)\n",
    "\n",
    "\n",
    "results = []\n",
    "for name in classifiers.keys():\n",
    "    results.append({\n",
    "        'Model': name,\n",
    "        'Train Accuracy': train_accuracies[name],\n",
    "        'Test Accuracy': test_accuracies[name]\n",
    "    })\n",
    "pd.DataFrame(results)"
   ]
  },
  {
   "cell_type": "markdown",
   "id": "42012431",
   "metadata": {
    "id": "-YB3xagiT-zI",
    "papermill": {
     "duration": 0.026756,
     "end_time": "2024-07-16T18:10:12.384333",
     "exception": false,
     "start_time": "2024-07-16T18:10:12.357577",
     "status": "completed"
    },
    "tags": []
   },
   "source": [
    "### AdaBoost\t1.000000\t0.973684  --- > This is the best because."
   ]
  },
  {
   "cell_type": "code",
   "execution_count": 19,
   "id": "7322adf7",
   "metadata": {
    "execution": {
     "iopub.execute_input": "2024-07-16T18:10:12.440528Z",
     "iopub.status.busy": "2024-07-16T18:10:12.440005Z",
     "iopub.status.idle": "2024-07-16T18:10:12.446110Z",
     "shell.execute_reply": "2024-07-16T18:10:12.444753Z"
    },
    "id": "qSggEIB7T-zJ",
    "outputId": "e36ff753-5fea-47cd-8a75-fc7dbf5ec5ef",
    "papermill": {
     "duration": 0.03747,
     "end_time": "2024-07-16T18:10:12.448814",
     "exception": false,
     "start_time": "2024-07-16T18:10:12.411344",
     "status": "completed"
    },
    "tags": []
   },
   "outputs": [],
   "source": [
    "# n_estimators = [int(x) for x in range(50, 201, 10)]\n",
    "# learning_rate = [0.01, 0.1, 0.5, 1.0, 1.5, 2.0]\n",
    "# algorithm = ['SAMME', 'SAMME.R']\n",
    "\n",
    "# random_grid = {\n",
    "#     'n_estimators': n_estimators,\n",
    "#     'learning_rate': learning_rate,\n",
    "#     'algorithm': algorithm\n",
    "# }\n",
    "\n",
    "# ABC=AdaBoostClassifier()\n",
    "# ABC_randomcv=RandomizedSearchCV(estimator=ABC,\n",
    "#                                param_distributions=random_grid,\n",
    "#                                n_iter=100,\n",
    "#                                cv=5,\n",
    "#                                verbose=2,\n",
    "#                                random_state=100,\n",
    "#                                n_jobs=-1)\n",
    "\n",
    "\n",
    "# ABC_randomcv.fit(X_train,y_train)"
   ]
  },
  {
   "cell_type": "code",
   "execution_count": 20,
   "id": "16962667",
   "metadata": {
    "execution": {
     "iopub.execute_input": "2024-07-16T18:10:12.505160Z",
     "iopub.status.busy": "2024-07-16T18:10:12.504742Z",
     "iopub.status.idle": "2024-07-16T18:10:12.510236Z",
     "shell.execute_reply": "2024-07-16T18:10:12.508717Z"
    },
    "papermill": {
     "duration": 0.036491,
     "end_time": "2024-07-16T18:10:12.512910",
     "exception": false,
     "start_time": "2024-07-16T18:10:12.476419",
     "status": "completed"
    },
    "tags": []
   },
   "outputs": [],
   "source": [
    "# best_parm = ABC_randomcv.best_params_\n",
    "# best_random_grid = ABC_randomcv.best_estimator_\n",
    "# print(best_parm)"
   ]
  },
  {
   "cell_type": "code",
   "execution_count": 21,
   "id": "516dd086",
   "metadata": {
    "execution": {
     "iopub.execute_input": "2024-07-16T18:10:12.570645Z",
     "iopub.status.busy": "2024-07-16T18:10:12.570125Z",
     "iopub.status.idle": "2024-07-16T18:10:12.575898Z",
     "shell.execute_reply": "2024-07-16T18:10:12.574623Z"
    },
    "papermill": {
     "duration": 0.038538,
     "end_time": "2024-07-16T18:10:12.578686",
     "exception": false,
     "start_time": "2024-07-16T18:10:12.540148",
     "status": "completed"
    },
    "tags": []
   },
   "outputs": [],
   "source": [
    "# y_train_pred = best_random_grid.predict(X_train)\n",
    "# y_test_pred = best_random_grid.predict(X_test)\n",
    "# print(f'Training accuracy : ',accuracy_score(y_train, y_train_pred))\n",
    "# print(f'Testing accuracy : ', accuracy_score(y_test, y_test_pred))\n",
    "# print(confusion_matrix(y_test,y_test_pred))\n",
    "# print(\"Classification report: {}\".format(classification_report(y_test,y_test_pred)))"
   ]
  },
  {
   "cell_type": "code",
   "execution_count": 22,
   "id": "6607d9c5",
   "metadata": {
    "execution": {
     "iopub.execute_input": "2024-07-16T18:10:12.636723Z",
     "iopub.status.busy": "2024-07-16T18:10:12.635478Z",
     "iopub.status.idle": "2024-07-16T18:10:12.641842Z",
     "shell.execute_reply": "2024-07-16T18:10:12.640472Z"
    },
    "id": "XdNvAHArT-zO",
    "outputId": "9cdd0bc6-5cc4-4b5c-9179-b218028d06aa",
    "papermill": {
     "duration": 0.037967,
     "end_time": "2024-07-16T18:10:12.644807",
     "exception": false,
     "start_time": "2024-07-16T18:10:12.606840",
     "status": "completed"
    },
    "tags": []
   },
   "outputs": [],
   "source": [
    "# def objective(trial):\n",
    "    \n",
    "#     n_estimators = trial.suggest_int('n_estimators', 50, 200, step=10)\n",
    "#     learning_rate = trial.suggest_categorical('learning_rate', [0.01, 0.1, 0.5, 1.0, 1.5, 2.0])\n",
    "#     algorithm = trial.suggest_categorical('algorithm', ['SAMME', 'SAMME.R'])\n",
    "\n",
    "#     model = AdaBoostClassifier(\n",
    "#         n_estimators=n_estimators,\n",
    "#         learning_rate=learning_rate,\n",
    "#         algorithm=algorithm\n",
    "#     )\n",
    "#     score = cross_val_score(model, X_train, y_train, cv=5, scoring='accuracy').mean()\n",
    "#     return score\n",
    "\n",
    "# study = optuna.create_study(direction='maximize')\n",
    "# study.optimize(objective, n_trials=100)"
   ]
  },
  {
   "cell_type": "code",
   "execution_count": 23,
   "id": "3b421a2d",
   "metadata": {
    "execution": {
     "iopub.execute_input": "2024-07-16T18:10:12.711275Z",
     "iopub.status.busy": "2024-07-16T18:10:12.710851Z",
     "iopub.status.idle": "2024-07-16T18:10:12.716169Z",
     "shell.execute_reply": "2024-07-16T18:10:12.714951Z"
    },
    "id": "7ftkOuaqT-zO",
    "outputId": "eb9a099f-e5dd-425b-c179-e94f7527e582",
    "papermill": {
     "duration": 0.047216,
     "end_time": "2024-07-16T18:10:12.719140",
     "exception": false,
     "start_time": "2024-07-16T18:10:12.671924",
     "status": "completed"
    },
    "tags": []
   },
   "outputs": [],
   "source": [
    "# optuna.visualization.plot_slice(study,params=['n_estimators', 'learning_rate', 'algorithm'])"
   ]
  },
  {
   "cell_type": "code",
   "execution_count": 24,
   "id": "7a2f7e1d",
   "metadata": {
    "execution": {
     "iopub.execute_input": "2024-07-16T18:10:12.778320Z",
     "iopub.status.busy": "2024-07-16T18:10:12.777283Z",
     "iopub.status.idle": "2024-07-16T18:10:12.782697Z",
     "shell.execute_reply": "2024-07-16T18:10:12.781420Z"
    },
    "id": "R4UqOjqpT-zP",
    "outputId": "47e87df3-b433-492f-9363-ef5a9638d6d9",
    "papermill": {
     "duration": 0.03814,
     "end_time": "2024-07-16T18:10:12.785347",
     "exception": false,
     "start_time": "2024-07-16T18:10:12.747207",
     "status": "completed"
    },
    "tags": []
   },
   "outputs": [],
   "source": [
    "# optuna.visualization.plot_param_importances(study)"
   ]
  },
  {
   "cell_type": "code",
   "execution_count": 25,
   "id": "ad12808f",
   "metadata": {
    "execution": {
     "iopub.execute_input": "2024-07-16T18:10:12.844287Z",
     "iopub.status.busy": "2024-07-16T18:10:12.843876Z",
     "iopub.status.idle": "2024-07-16T18:10:12.850156Z",
     "shell.execute_reply": "2024-07-16T18:10:12.848724Z"
    },
    "id": "LX4eM4NYT-zP",
    "outputId": "9ee0e50e-c145-43cc-81be-906c698d045a",
    "papermill": {
     "duration": 0.040761,
     "end_time": "2024-07-16T18:10:12.853101",
     "exception": false,
     "start_time": "2024-07-16T18:10:12.812340",
     "status": "completed"
    },
    "tags": []
   },
   "outputs": [],
   "source": [
    "# best_params = study.best_params\n",
    "# print(\"Best parameters:\", best_params)"
   ]
  },
  {
   "cell_type": "code",
   "execution_count": 26,
   "id": "0948f803",
   "metadata": {
    "execution": {
     "iopub.execute_input": "2024-07-16T18:10:12.912158Z",
     "iopub.status.busy": "2024-07-16T18:10:12.911730Z",
     "iopub.status.idle": "2024-07-16T18:10:12.917753Z",
     "shell.execute_reply": "2024-07-16T18:10:12.916361Z"
    },
    "id": "R1qUOgzXT-zP",
    "outputId": "dea24504-6740-4844-81f0-01a944bc9287",
    "papermill": {
     "duration": 0.039398,
     "end_time": "2024-07-16T18:10:12.921042",
     "exception": false,
     "start_time": "2024-07-16T18:10:12.881644",
     "status": "completed"
    },
    "tags": []
   },
   "outputs": [],
   "source": [
    "# best_model = AdaBoostClassifier(**best_params, random_state=42)\n",
    "# best_model.fit(X_train, y_train)"
   ]
  },
  {
   "cell_type": "code",
   "execution_count": 27,
   "id": "ce54cec7",
   "metadata": {
    "execution": {
     "iopub.execute_input": "2024-07-16T18:10:12.981951Z",
     "iopub.status.busy": "2024-07-16T18:10:12.981452Z",
     "iopub.status.idle": "2024-07-16T18:10:12.987271Z",
     "shell.execute_reply": "2024-07-16T18:10:12.986070Z"
    },
    "id": "TQW_PhZQT-zP",
    "outputId": "8c79b81e-2c8f-4e4a-c546-8a431ceb12ec",
    "papermill": {
     "duration": 0.03934,
     "end_time": "2024-07-16T18:10:12.990066",
     "exception": false,
     "start_time": "2024-07-16T18:10:12.950726",
     "status": "completed"
    },
    "tags": []
   },
   "outputs": [],
   "source": [
    "# the best parameters are : algorithm='SAMME', learning_rate=1.5, n_estimators=80,\n",
    "#                            random_state=42\n",
    "\n",
    "\n",
    "\n",
    "\n",
    "# best_model = GradientBoostingClassifier(algorithm='SAMME', learning_rate=1.5, n_estimators=80,random_state=42)\n",
    "# best_model.fit(X_train,y_train)"
   ]
  },
  {
   "cell_type": "code",
   "execution_count": 28,
   "id": "36735420",
   "metadata": {
    "execution": {
     "iopub.execute_input": "2024-07-16T18:10:13.047252Z",
     "iopub.status.busy": "2024-07-16T18:10:13.046811Z",
     "iopub.status.idle": "2024-07-16T18:10:13.052869Z",
     "shell.execute_reply": "2024-07-16T18:10:13.051194Z"
    },
    "id": "ibI0iwYMT-zP",
    "outputId": "db2934cb-2e38-4c65-ea3a-28231fe9af2e",
    "papermill": {
     "duration": 0.038853,
     "end_time": "2024-07-16T18:10:13.056107",
     "exception": false,
     "start_time": "2024-07-16T18:10:13.017254",
     "status": "completed"
    },
    "tags": []
   },
   "outputs": [],
   "source": [
    "# y_train_pred = best_model.predict(X_train)\n",
    "# y_test_pred = best_model.predict(X_test)\n",
    "\n",
    "\n",
    "# print(f'Training accuracy : ',accuracy_score(y_train, y_train_pred))\n",
    "# print(f'Testing accuracy : ', accuracy_score(y_test, y_test_pred))"
   ]
  },
  {
   "cell_type": "markdown",
   "id": "414e11bd",
   "metadata": {
    "papermill": {
     "duration": 0.028237,
     "end_time": "2024-07-16T18:10:13.112269",
     "exception": false,
     "start_time": "2024-07-16T18:10:13.084032",
     "status": "completed"
    },
    "tags": []
   },
   "source": [
    "## I found that the best parameter are :\n",
    "<code>n_estimators</code>: 100\n",
    "\n",
    "<code>learning_rate</code>: 1.5\n",
    "\n",
    "<code>algorithm</code>: **SAMME**"
   ]
  },
  {
   "cell_type": "code",
   "execution_count": 29,
   "id": "ba8813ca",
   "metadata": {
    "execution": {
     "iopub.execute_input": "2024-07-16T18:10:13.170524Z",
     "iopub.status.busy": "2024-07-16T18:10:13.170060Z",
     "iopub.status.idle": "2024-07-16T18:10:13.621963Z",
     "shell.execute_reply": "2024-07-16T18:10:13.619786Z"
    },
    "papermill": {
     "duration": 0.48503,
     "end_time": "2024-07-16T18:10:13.625360",
     "exception": false,
     "start_time": "2024-07-16T18:10:13.140330",
     "status": "completed"
    },
    "tags": []
   },
   "outputs": [
    {
     "name": "stdout",
     "output_type": "stream",
     "text": [
      "Training accuracy :  1.0\n",
      "Testing accuracy :  0.9736842105263158\n",
      "[[70  1]\n",
      " [ 2 41]]\n",
      "Classification report:               precision    recall  f1-score   support\n",
      "\n",
      "           0       0.97      0.99      0.98        71\n",
      "           1       0.98      0.95      0.96        43\n",
      "\n",
      "    accuracy                           0.97       114\n",
      "   macro avg       0.97      0.97      0.97       114\n",
      "weighted avg       0.97      0.97      0.97       114\n",
      "\n"
     ]
    }
   ],
   "source": [
    "model = AdaBoostClassifier(algorithm='SAMME', learning_rate=1.5, n_estimators=100)\n",
    "model.fit(X_train,y_train)\n",
    "\n",
    "\n",
    "y_train_pred = model.predict(X_train)\n",
    "y_test_pred = model.predict(X_test)\n",
    "print(f'Training accuracy : ',accuracy_score(y_train, y_train_pred))\n",
    "print(f'Testing accuracy : ', accuracy_score(y_test, y_test_pred))\n",
    "print(confusion_matrix(y_test,y_test_pred))\n",
    "print(\"Classification report: {}\".format(classification_report(y_test,y_test_pred)))"
   ]
  },
  {
   "cell_type": "markdown",
   "id": "39b18e91",
   "metadata": {
    "id": "yHpdVDi6T-zP",
    "papermill": {
     "duration": 0.029901,
     "end_time": "2024-07-16T18:10:13.686325",
     "exception": false,
     "start_time": "2024-07-16T18:10:13.656424",
     "status": "completed"
    },
    "tags": []
   },
   "source": [
    "<h1 style=\"background-color: #12f7ff;\n",
    "           font-family: 'Trebuchet MS', sans-serif;\n",
    "           color: #000;\n",
    "           font-size: 150%;\n",
    "           text-align: center;\n",
    "           border-radius: 50px 50px;\n",
    "           padding: 20px 20px ;\n",
    "           margin: 30px 30px;\n",
    "           box-shadow: 0 0 10px rgba(18,247,255,0.6),\n",
    "    0 0 20px rgba(18,247,255,0.6),\n",
    "    0 0 30px rgba(18,247,255,0.6),\n",
    "    0 0 40px rgba(18,247,255,0.6);\">\n",
    "    🔻🌟 Save the model🌟🔻</h1>"
   ]
  },
  {
   "cell_type": "code",
   "execution_count": 30,
   "id": "1554b35d",
   "metadata": {
    "execution": {
     "iopub.execute_input": "2024-07-16T18:10:13.751485Z",
     "iopub.status.busy": "2024-07-16T18:10:13.751041Z",
     "iopub.status.idle": "2024-07-16T18:10:13.766254Z",
     "shell.execute_reply": "2024-07-16T18:10:13.764416Z"
    },
    "id": "tC2eDmDUT-zP",
    "outputId": "be6a8320-c625-4e73-8bbb-5ef56df1b61d",
    "papermill": {
     "duration": 0.051898,
     "end_time": "2024-07-16T18:10:13.769847",
     "exception": false,
     "start_time": "2024-07-16T18:10:13.717949",
     "status": "completed"
    },
    "tags": []
   },
   "outputs": [
    {
     "name": "stdout",
     "output_type": "stream",
     "text": [
      "Model saved to best_model.pkl\n"
     ]
    }
   ],
   "source": [
    "# Save the model to a pickle file\n",
    "with open('best_model.pkl', 'wb') as f:\n",
    "    pickle.dump(model, f)\n",
    "\n",
    "print(\"Model saved to best_model.pkl\")"
   ]
  },
  {
   "cell_type": "markdown",
   "id": "e0aa72f4",
   "metadata": {
    "id": "dsQAPIqzT-zP",
    "papermill": {
     "duration": 0.027217,
     "end_time": "2024-07-16T18:10:13.825296",
     "exception": false,
     "start_time": "2024-07-16T18:10:13.798079",
     "status": "completed"
    },
    "tags": []
   },
   "source": [
    "\n",
    "<img style=\"width: 60%; height: auto; padding: 20px  auto; margin: 20px auto; display: block ; display: block; border-radius: 50px 50px;\" src=\"https://media.giphy.com/media/v1.Y2lkPTc5MGI3NjExaWFsMmxudnF2dm84aGs5NW9lcW9zaXdvM3N6eW55YzY4cjc5bm94MiZlcD12MV9pbnRlcm5hbF9naWZfYnlfaWQmY3Q9Zw/smaaKxR6ZrQYQxHFfA/giphy.gif\">\n"
   ]
  },
  {
   "cell_type": "markdown",
   "id": "52cf5206",
   "metadata": {
    "id": "gn6iGli2T-zP",
    "papermill": {
     "duration": 0.027879,
     "end_time": "2024-07-16T18:10:13.880723",
     "exception": false,
     "start_time": "2024-07-16T18:10:13.852844",
     "status": "completed"
    },
    "tags": []
   },
   "source": [
    "\n",
    "\n",
    " <div align=\"center\">\n",
    "  <a href=\"mailto:hassaneskikri@gmail.com\">\n",
    "    <img src=\"https://img.shields.io/badge/Gmail-333333?style=for-the-badge&logo=gmail&logoColor=red\" />\n",
    "  </a>\n",
    "  <a href=\"https://www.linkedin.com/in/hassane-skikri-3224bb255/\" target=\"_blank\">\n",
    "    <img src=\"https://img.shields.io/badge/LinkedIn-0077B5?style=for-the-badge&logo=linkedin&logoColor=white\" target=\"_blank\" />\n",
    "  </a>\n",
    "  <a href=\"https://hassaneskikri.github.io/skikriPortfolio/\" target=\"_blank\">\n",
    "     <img src=\"https://img.shields.io/badge/Portfolio-FF5722?style=for-the-badge&logo=todoist&logoColor=white\" target=\"_blank\" />\n",
    "  </a>\n",
    "   <a href=\"https://medium.com/@Hassane_01\" target=\"_blank\">\n",
    "    <img src=\"https://img.shields.io/badge/Medium-12100E?style=for-the-badge&logo=medium&logoColor=white\" target=\"_blank\" />\n",
    "  </a>\n",
    "    <a href=\"https://www.kaggle.com/hassaneskikri\" target=\"_blank\">\n",
    "    <img src=\"https://img.shields.io/badge/Kaggle-20BEFF?style=for-the-badge&logo=Kaggle&logoColor=white\" target=\"_blank\" />\n",
    "  </a>\n",
    "    <a href=\"https://github.com/HassaneSkikri\" target=\"_blank\">\n",
    "    <img src=\"https://img.shields.io/badge/GitHub-100000?style=for-the-badge&logo=github&logoColor=white\" target=\"_blank\" />\n",
    "  </a>\n"
   ]
  }
 ],
 "metadata": {
  "colab": {
   "name": "Breast Cancer detection",
   "provenance": []
  },
  "kaggle": {
   "accelerator": "none",
   "dataSources": [
    {
     "datasetId": 1829286,
     "sourceId": 2984728,
     "sourceType": "datasetVersion"
    }
   ],
   "dockerImageVersionId": 30746,
   "isGpuEnabled": false,
   "isInternetEnabled": true,
   "language": "python",
   "sourceType": "notebook"
  },
  "kernelspec": {
   "display_name": "Python 3",
   "language": "python",
   "name": "python3"
  },
  "language_info": {
   "codemirror_mode": {
    "name": "ipython",
    "version": 3
   },
   "file_extension": ".py",
   "mimetype": "text/x-python",
   "name": "python",
   "nbconvert_exporter": "python",
   "pygments_lexer": "ipython3",
   "version": "3.10.13"
  },
  "papermill": {
   "default_parameters": {},
   "duration": 24.455381,
   "end_time": "2024-07-16T18:10:14.733562",
   "environment_variables": {},
   "exception": null,
   "input_path": "__notebook__.ipynb",
   "output_path": "__notebook__.ipynb",
   "parameters": {},
   "start_time": "2024-07-16T18:09:50.278181",
   "version": "2.5.0"
  }
 },
 "nbformat": 4,
 "nbformat_minor": 5
}
